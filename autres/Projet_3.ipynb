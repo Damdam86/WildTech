{
  "cells": [
    {
      "cell_type": "code",
      "execution_count": 4,
      "metadata": {
        "collapsed": true,
        "id": "z7YAvHxQSIqc"
      },
      "outputs": [],
      "source": [
        "import pandas as pd\n",
        "import plotly.express as px\n",
        "from wordcloud import WordCloud\n",
        "import matplotlib.pyplot as plt\n",
        "from collections import Counter"
      ]
    },
    {
      "cell_type": "code",
      "execution_count": 5,
      "metadata": {
        "colab": {
          "base_uri": "https://localhost:8080/"
        },
        "id": "laqjBIOijR5v",
        "outputId": "db09ae9f-39b5-42d7-aa8e-73678b563e6f"
      },
      "outputs": [
        {
          "name": "stdout",
          "output_type": "stream",
          "text": [
            "<class 'pandas.core.frame.DataFrame'>\n",
            "RangeIndex: 14335 entries, 0 to 14334\n",
            "Data columns (total 17 columns):\n",
            " #   Column               Non-Null Count  Dtype  \n",
            "---  ------               --------------  -----  \n",
            " 0   entreprise_id        14335 non-null  int64  \n",
            " 1   nom                  14335 non-null  object \n",
            " 2   description          13681 non-null  object \n",
            " 3   logo                 14326 non-null  object \n",
            " 4   Type d'organisme     6168 non-null   object \n",
            " 5   SIREN                11623 non-null  object \n",
            " 6   Activité principale  7727 non-null   object \n",
            " 7   Effectif_def         7929 non-null   object \n",
            " 8   market               6769 non-null   object \n",
            " 9   mots_cles_def        13219 non-null  object \n",
            " 10  site_web_def         7961 non-null   object \n",
            " 11  adresse_def          12386 non-null  object \n",
            " 12  date_creation_def    9038 non-null   object \n",
            " 13  SIRET                7726 non-null   float64\n",
            " 14  Date de fermeture    1151 non-null   object \n",
            " 15  latitude             11920 non-null  float64\n",
            " 16  longitude            11920 non-null  float64\n",
            "dtypes: float64(3), int64(1), object(13)\n",
            "memory usage: 1.9+ MB\n"
          ]
        }
      ],
      "source": [
        "df = pd.read_csv('./dash_app/assets/societes.csv')\n",
        "df.info()"
      ]
    },
    {
      "cell_type": "code",
      "execution_count": 6,
      "metadata": {
        "colab": {
          "base_uri": "https://localhost:8080/",
          "height": 530
        },
        "id": "DKffxhInM7Kl",
        "outputId": "1fd0ebb6-c641-4279-f8d9-43858c45f1a2"
      },
      "outputs": [
        {
          "data": {
            "text/html": [
              "<div>\n",
              "<style scoped>\n",
              "    .dataframe tbody tr th:only-of-type {\n",
              "        vertical-align: middle;\n",
              "    }\n",
              "\n",
              "    .dataframe tbody tr th {\n",
              "        vertical-align: top;\n",
              "    }\n",
              "\n",
              "    .dataframe thead th {\n",
              "        text-align: right;\n",
              "    }\n",
              "</style>\n",
              "<table border=\"1\" class=\"dataframe\">\n",
              "  <thead>\n",
              "    <tr style=\"text-align: right;\">\n",
              "      <th></th>\n",
              "      <th>entreprise_id</th>\n",
              "      <th>nom</th>\n",
              "      <th>description</th>\n",
              "      <th>logo</th>\n",
              "      <th>Type d'organisme</th>\n",
              "      <th>SIREN</th>\n",
              "      <th>Activité principale</th>\n",
              "      <th>Effectif_def</th>\n",
              "      <th>market</th>\n",
              "      <th>mots_cles_def</th>\n",
              "      <th>site_web_def</th>\n",
              "      <th>adresse_def</th>\n",
              "      <th>date_creation_def</th>\n",
              "      <th>SIRET</th>\n",
              "      <th>Date de fermeture</th>\n",
              "      <th>latitude</th>\n",
              "      <th>longitude</th>\n",
              "    </tr>\n",
              "  </thead>\n",
              "  <tbody>\n",
              "    <tr>\n",
              "      <th>0</th>\n",
              "      <td>1</td>\n",
              "      <td>#DOT:DOT</td>\n",
              "      <td>#dot:dot est un réseau mobile WiFi maillé oppo...</td>\n",
              "      <td>https://d3kqkuy1hpjocx.cloudfront.net/s3fs-pub...</td>\n",
              "      <td>PME</td>\n",
              "      <td>NaN</td>\n",
              "      <td>NaN</td>\n",
              "      <td>NaN</td>\n",
              "      <td>NaN</td>\n",
              "      <td>infrastructures du numérique,                 ...</td>\n",
              "      <td>https://dotdot.fr/?utm_source=LesPepitesTech.com</td>\n",
              "      <td>9 Avenue Paul Verlaine 38100 GRENOBLE, 9 Avenu...</td>\n",
              "      <td>NaN</td>\n",
              "      <td>NaN</td>\n",
              "      <td>NaN</td>\n",
              "      <td>NaN</td>\n",
              "      <td>NaN</td>\n",
              "    </tr>\n",
              "    <tr>\n",
              "      <th>1</th>\n",
              "      <td>2</td>\n",
              "      <td>+SIMPLE</td>\n",
              "      <td>An insurance Robo-Broker for freelancers, smal...</td>\n",
              "      <td>https://storage.googleapis.com/dealroom-images...</td>\n",
              "      <td>NaN</td>\n",
              "      <td>Non disponible</td>\n",
              "      <td>NaN</td>\n",
              "      <td>50 à 99 salariés</td>\n",
              "      <td>B2B</td>\n",
              "      <td>commission, fintech, insurance, marketplace &amp; ...</td>\n",
              "      <td>NaN</td>\n",
              "      <td>Paris, France</td>\n",
              "      <td>2015-01-01</td>\n",
              "      <td>NaN</td>\n",
              "      <td>NaN</td>\n",
              "      <td>48.858890</td>\n",
              "      <td>2.320041</td>\n",
              "    </tr>\n",
              "    <tr>\n",
              "      <th>2</th>\n",
              "      <td>3</td>\n",
              "      <td>03 JULY</td>\n",
              "      <td>Nice and useful, what else? We at 03 July, we ...</td>\n",
              "      <td>https://storage.googleapis.com/dealroom-images...</td>\n",
              "      <td>NaN</td>\n",
              "      <td>Non disponible</td>\n",
              "      <td>NaN</td>\n",
              "      <td>20 à 49 salariés</td>\n",
              "      <td>B2B</td>\n",
              "      <td>b2c, hosting, semiconductors</td>\n",
              "      <td>NaN</td>\n",
              "      <td>Paris, France</td>\n",
              "      <td>2012-01-01</td>\n",
              "      <td>NaN</td>\n",
              "      <td>NaN</td>\n",
              "      <td>48.858890</td>\n",
              "      <td>2.320041</td>\n",
              "    </tr>\n",
              "    <tr>\n",
              "      <th>3</th>\n",
              "      <td>4</td>\n",
              "      <td>10 VINS</td>\n",
              "      <td>The first wine-by-the-glass connected sommelie...</td>\n",
              "      <td>https://storage.googleapis.com/dealroom-images...</td>\n",
              "      <td>NaN</td>\n",
              "      <td>Non disponible</td>\n",
              "      <td>NaN</td>\n",
              "      <td>1 ou 2 salariés</td>\n",
              "      <td>B2B</td>\n",
              "      <td>b2c, food, home living, in-store retail &amp; rest...</td>\n",
              "      <td>NaN</td>\n",
              "      <td>Nantes, France</td>\n",
              "      <td>NaN</td>\n",
              "      <td>NaN</td>\n",
              "      <td>NaN</td>\n",
              "      <td>47.218637</td>\n",
              "      <td>-1.554136</td>\n",
              "    </tr>\n",
              "    <tr>\n",
              "      <th>4</th>\n",
              "      <td>5</td>\n",
              "      <td>1001 SALLES</td>\n",
              "      <td>Allowing to respond quickly and efficiently to...</td>\n",
              "      <td>https://storage.googleapis.com/dealroom-images...</td>\n",
              "      <td>NaN</td>\n",
              "      <td>Non disponible</td>\n",
              "      <td>NaN</td>\n",
              "      <td>20 à 49 salariés</td>\n",
              "      <td>NaN</td>\n",
              "      <td>marketplace &amp; ecommerce, subscription, travel</td>\n",
              "      <td>NaN</td>\n",
              "      <td>Ivry-sur-Seine, France</td>\n",
              "      <td>2000-01-01</td>\n",
              "      <td>NaN</td>\n",
              "      <td>NaN</td>\n",
              "      <td>48.812230</td>\n",
              "      <td>2.387253</td>\n",
              "    </tr>\n",
              "  </tbody>\n",
              "</table>\n",
              "</div>"
            ],
            "text/plain": [
              "   entreprise_id          nom  \\\n",
              "0              1     #DOT:DOT   \n",
              "1              2      +SIMPLE   \n",
              "2              3      03 JULY   \n",
              "3              4      10 VINS   \n",
              "4              5  1001 SALLES   \n",
              "\n",
              "                                         description  \\\n",
              "0  #dot:dot est un réseau mobile WiFi maillé oppo...   \n",
              "1  An insurance Robo-Broker for freelancers, smal...   \n",
              "2  Nice and useful, what else? We at 03 July, we ...   \n",
              "3  The first wine-by-the-glass connected sommelie...   \n",
              "4  Allowing to respond quickly and efficiently to...   \n",
              "\n",
              "                                                logo Type d'organisme  \\\n",
              "0  https://d3kqkuy1hpjocx.cloudfront.net/s3fs-pub...              PME   \n",
              "1  https://storage.googleapis.com/dealroom-images...              NaN   \n",
              "2  https://storage.googleapis.com/dealroom-images...              NaN   \n",
              "3  https://storage.googleapis.com/dealroom-images...              NaN   \n",
              "4  https://storage.googleapis.com/dealroom-images...              NaN   \n",
              "\n",
              "            SIREN Activité principale      Effectif_def market  \\\n",
              "0             NaN                 NaN               NaN    NaN   \n",
              "1  Non disponible                 NaN  50 à 99 salariés    B2B   \n",
              "2  Non disponible                 NaN  20 à 49 salariés    B2B   \n",
              "3  Non disponible                 NaN   1 ou 2 salariés    B2B   \n",
              "4  Non disponible                 NaN  20 à 49 salariés    NaN   \n",
              "\n",
              "                                       mots_cles_def  \\\n",
              "0  infrastructures du numérique,                 ...   \n",
              "1  commission, fintech, insurance, marketplace & ...   \n",
              "2                       b2c, hosting, semiconductors   \n",
              "3  b2c, food, home living, in-store retail & rest...   \n",
              "4      marketplace & ecommerce, subscription, travel   \n",
              "\n",
              "                                       site_web_def  \\\n",
              "0  https://dotdot.fr/?utm_source=LesPepitesTech.com   \n",
              "1                                               NaN   \n",
              "2                                               NaN   \n",
              "3                                               NaN   \n",
              "4                                               NaN   \n",
              "\n",
              "                                         adresse_def date_creation_def  SIRET  \\\n",
              "0  9 Avenue Paul Verlaine 38100 GRENOBLE, 9 Avenu...               NaN    NaN   \n",
              "1                                      Paris, France        2015-01-01    NaN   \n",
              "2                                      Paris, France        2012-01-01    NaN   \n",
              "3                                     Nantes, France               NaN    NaN   \n",
              "4                             Ivry-sur-Seine, France        2000-01-01    NaN   \n",
              "\n",
              "  Date de fermeture   latitude  longitude  \n",
              "0               NaN        NaN        NaN  \n",
              "1               NaN  48.858890   2.320041  \n",
              "2               NaN  48.858890   2.320041  \n",
              "3               NaN  47.218637  -1.554136  \n",
              "4               NaN  48.812230   2.387253  "
            ]
          },
          "execution_count": 6,
          "metadata": {},
          "output_type": "execute_result"
        }
      ],
      "source": [
        "df.head()\n"
      ]
    },
    {
      "cell_type": "code",
      "execution_count": 7,
      "metadata": {
        "colab": {
          "base_uri": "https://localhost:8080/",
          "height": 424
        },
        "id": "n_fXq8IVSaV2",
        "outputId": "0c661498-f50c-4acf-d6a6-6516cdb921bf"
      },
      "outputs": [
        {
          "data": {
            "text/plain": [
              "Programmation, conseil et autres activités informatiques      1865\n",
              "Édition                                                        705\n",
              "Activités des sièges sociaux, conseil en gestion               507\n",
              "Ingénierie et études techniques                                463\n",
              "Activités immobilières                                         450\n",
              "Recherche et développement scientifique                        417\n",
              "Services d’information                                         390\n",
              "Autres activités spécialisées, scientifiques et techniques     258\n",
              "Activités financières et d’assurance                           170\n",
              "Fabrication de produits informatiques et électroniques         141\n",
              "Name: Nom Secteur, dtype: int64"
            ]
          },
          "execution_count": 7,
          "metadata": {},
          "output_type": "execute_result"
        }
      ],
      "source": [
        "# Dictionnaire des secteurs d'activité (codes NAF partiels)\n",
        "dict_secteurs = {\n",
        "    '01': 'Agriculture',\n",
        "    '02': 'Sylviculture et exploitation forestière',\n",
        "    '03': 'Pêche et aquaculture',\n",
        "    '05': 'Extraction de houille et de lignite',\n",
        "    '08': 'Autres industries extractives',\n",
        "    '10': 'Industries alimentaires',\n",
        "    '13': 'Fabrication de textiles',\n",
        "    '18': 'Imprimerie et reproduction d\\'enregistrements',\n",
        "    '26': 'Fabrication de produits informatiques et électroniques',\n",
        "    '32': 'Autres industries manufacturières',\n",
        "    '41': 'Construction de bâtiments',\n",
        "    '43': 'Travaux de construction spécialisés',\n",
        "    '49': 'Transports terrestres et transport par conduites',\n",
        "    '56': 'Restauration',\n",
        "    '58': 'Édition',\n",
        "    '61': 'Télécommunications',\n",
        "    '62': 'Programmation, conseil et autres activités informatiques',\n",
        "    '63': 'Services d’information',\n",
        "    '64': 'Activités financières et d’assurance',\n",
        "    '68': 'Activités immobilières',\n",
        "    '70': 'Activités des sièges sociaux, conseil en gestion',\n",
        "    '71': 'Ingénierie et études techniques',\n",
        "    '72': 'Recherche et développement scientifique',\n",
        "    '73': 'Publicité et études de marché',\n",
        "    '74': 'Autres activités spécialisées, scientifiques et techniques',\n",
        "    '77': 'Location et exploitation de biens immobiliers',\n",
        "    '82': 'Activités administratives et autres services de soutien'\n",
        "}\n",
        "\n",
        "# Étape 1 : Extraire les 2 premiers chiffres du code de l'activité principale\n",
        "df['Secteur'] = df['Activité principale'].str[:2]\n",
        "\n",
        "# Étape 2 : Mapper avec le dictionnaire des secteurs\n",
        "df['Nom Secteur'] = df['Secteur'].map(dict_secteurs)\n",
        "\n",
        "# Étape 3 : Calculer la distribution des secteurs les plus fréquents\n",
        "secteur_counts = df['Nom Secteur'].value_counts().head(10)\n",
        "\n",
        "# Afficher les résultats\n",
        "secteur_counts"
      ]
    },
    {
      "cell_type": "code",
      "execution_count": 8,
      "metadata": {
        "colab": {
          "base_uri": "https://localhost:8080/",
          "height": 889
        },
        "id": "RHeOUQm0nRMU",
        "outputId": "fa48a169-ae7d-4d13-d616-d137e882c53a"
      },
      "outputs": [
        {
          "data": {
            "text/plain": [
              "Programmation, conseil et autres activités informatiques      1865\n",
              "Édition                                                        705\n",
              "Activités des sièges sociaux, conseil en gestion               507\n",
              "Ingénierie et études techniques                                463\n",
              "Activités immobilières                                         450\n",
              "Recherche et développement scientifique                        417\n",
              "Services d’information                                         390\n",
              "Autres activités spécialisées, scientifiques et techniques     258\n",
              "Activités financières et d’assurance                           170\n",
              "Fabrication de produits informatiques et électroniques         141\n",
              "Restauration                                                   106\n",
              "Activités administratives et autres services de soutien        104\n",
              "Publicité et études de marché                                   98\n",
              "Travaux de construction spécialisés                             77\n",
              "Location et exploitation de biens immobiliers                   56\n",
              "Télécommunications                                              37\n",
              "Transports terrestres et transport par conduites                34\n",
              "Industries alimentaires                                         29\n",
              "Construction de bâtiments                                       27\n",
              "Autres industries manufacturières                               20\n",
              "Imprimerie et reproduction d'enregistrements                    16\n",
              "Agriculture                                                     10\n",
              "Pêche et aquaculture                                             7\n",
              "Fabrication de textiles                                          6\n",
              "Sylviculture et exploitation forestière                          1\n",
              "Name: Nom Secteur, dtype: int64"
            ]
          },
          "execution_count": 8,
          "metadata": {},
          "output_type": "execute_result"
        }
      ],
      "source": [
        "df['Nom Secteur'].value_counts()"
      ]
    },
    {
      "cell_type": "code",
      "execution_count": 9,
      "metadata": {
        "colab": {
          "base_uri": "https://localhost:8080/"
        },
        "id": "ei9LUJOvTQIY",
        "outputId": "057b99c2-4ac1-42a6-99ee-20f6cd3830b9"
      },
      "outputs": [
        {
          "name": "stdout",
          "output_type": "stream",
          "text": [
            "<class 'pandas.core.frame.DataFrame'>\n",
            "RangeIndex: 14335 entries, 0 to 14334\n",
            "Data columns (total 19 columns):\n",
            " #   Column               Non-Null Count  Dtype  \n",
            "---  ------               --------------  -----  \n",
            " 0   entreprise_id        14335 non-null  int64  \n",
            " 1   nom                  14335 non-null  object \n",
            " 2   description          13681 non-null  object \n",
            " 3   logo                 14326 non-null  object \n",
            " 4   Type d'organisme     6168 non-null   object \n",
            " 5   SIREN                11623 non-null  object \n",
            " 6   Activité principale  7727 non-null   object \n",
            " 7   Effectif_def         7929 non-null   object \n",
            " 8   market               6769 non-null   object \n",
            " 9   mots_cles_def        13219 non-null  object \n",
            " 10  site_web_def         7961 non-null   object \n",
            " 11  adresse_def          12386 non-null  object \n",
            " 12  date_creation_def    9038 non-null   object \n",
            " 13  SIRET                7726 non-null   float64\n",
            " 14  Date de fermeture    1151 non-null   object \n",
            " 15  latitude             11920 non-null  float64\n",
            " 16  longitude            11920 non-null  float64\n",
            " 17  Secteur              7727 non-null   object \n",
            " 18  Nom Secteur          5994 non-null   object \n",
            "dtypes: float64(3), int64(1), object(15)\n",
            "memory usage: 2.1+ MB\n"
          ]
        }
      ],
      "source": [
        "df.info()"
      ]
    },
    {
      "cell_type": "code",
      "execution_count": 10,
      "metadata": {
        "colab": {
          "base_uri": "https://localhost:8080/",
          "height": 1000
        },
        "id": "cxOfSphlar11",
        "outputId": "251b3f04-8493-4b53-9611-59f9921c45c8"
      },
      "outputs": [
        {
          "data": {
            "text/html": [
              "<div>\n",
              "<style scoped>\n",
              "    .dataframe tbody tr th:only-of-type {\n",
              "        vertical-align: middle;\n",
              "    }\n",
              "\n",
              "    .dataframe tbody tr th {\n",
              "        vertical-align: top;\n",
              "    }\n",
              "\n",
              "    .dataframe thead th {\n",
              "        text-align: right;\n",
              "    }\n",
              "</style>\n",
              "<table border=\"1\" class=\"dataframe\">\n",
              "  <thead>\n",
              "    <tr style=\"text-align: right;\">\n",
              "      <th></th>\n",
              "      <th>entreprise_id</th>\n",
              "      <th>nom</th>\n",
              "      <th>description</th>\n",
              "      <th>logo</th>\n",
              "      <th>Type d'organisme</th>\n",
              "      <th>SIREN</th>\n",
              "      <th>Activité principale</th>\n",
              "      <th>Effectif_def</th>\n",
              "      <th>market</th>\n",
              "      <th>mots_cles_def</th>\n",
              "      <th>site_web_def</th>\n",
              "      <th>adresse_def</th>\n",
              "      <th>date_creation_def</th>\n",
              "      <th>SIRET</th>\n",
              "      <th>Date de fermeture</th>\n",
              "      <th>latitude</th>\n",
              "      <th>longitude</th>\n",
              "      <th>Secteur</th>\n",
              "      <th>Nom Secteur</th>\n",
              "    </tr>\n",
              "  </thead>\n",
              "  <tbody>\n",
              "    <tr>\n",
              "      <th>0</th>\n",
              "      <td>1</td>\n",
              "      <td>#DOT:DOT</td>\n",
              "      <td>#dot:dot est un réseau mobile WiFi maillé oppo...</td>\n",
              "      <td>https://d3kqkuy1hpjocx.cloudfront.net/s3fs-pub...</td>\n",
              "      <td>PME</td>\n",
              "      <td>NaN</td>\n",
              "      <td>NaN</td>\n",
              "      <td>NaN</td>\n",
              "      <td>NaN</td>\n",
              "      <td>infrastructures du numérique,                 ...</td>\n",
              "      <td>https://dotdot.fr/?utm_source=LesPepitesTech.com</td>\n",
              "      <td>9 Avenue Paul Verlaine 38100 GRENOBLE, 9 Avenu...</td>\n",
              "      <td>NaN</td>\n",
              "      <td>NaN</td>\n",
              "      <td>NaN</td>\n",
              "      <td>NaN</td>\n",
              "      <td>NaN</td>\n",
              "      <td>NaN</td>\n",
              "      <td>NaN</td>\n",
              "    </tr>\n",
              "    <tr>\n",
              "      <th>1</th>\n",
              "      <td>2</td>\n",
              "      <td>+SIMPLE</td>\n",
              "      <td>An insurance Robo-Broker for freelancers, smal...</td>\n",
              "      <td>https://storage.googleapis.com/dealroom-images...</td>\n",
              "      <td>NaN</td>\n",
              "      <td>Non disponible</td>\n",
              "      <td>NaN</td>\n",
              "      <td>50 à 99 salariés</td>\n",
              "      <td>B2B</td>\n",
              "      <td>commission, fintech, insurance, marketplace &amp; ...</td>\n",
              "      <td>NaN</td>\n",
              "      <td>Paris, France</td>\n",
              "      <td>2015-01-01</td>\n",
              "      <td>NaN</td>\n",
              "      <td>NaN</td>\n",
              "      <td>48.858890</td>\n",
              "      <td>2.320041</td>\n",
              "      <td>NaN</td>\n",
              "      <td>NaN</td>\n",
              "    </tr>\n",
              "    <tr>\n",
              "      <th>2</th>\n",
              "      <td>3</td>\n",
              "      <td>03 JULY</td>\n",
              "      <td>Nice and useful, what else? We at 03 July, we ...</td>\n",
              "      <td>https://storage.googleapis.com/dealroom-images...</td>\n",
              "      <td>NaN</td>\n",
              "      <td>Non disponible</td>\n",
              "      <td>NaN</td>\n",
              "      <td>20 à 49 salariés</td>\n",
              "      <td>B2B</td>\n",
              "      <td>b2c, hosting, semiconductors</td>\n",
              "      <td>NaN</td>\n",
              "      <td>Paris, France</td>\n",
              "      <td>2012-01-01</td>\n",
              "      <td>NaN</td>\n",
              "      <td>NaN</td>\n",
              "      <td>48.858890</td>\n",
              "      <td>2.320041</td>\n",
              "      <td>NaN</td>\n",
              "      <td>NaN</td>\n",
              "    </tr>\n",
              "    <tr>\n",
              "      <th>3</th>\n",
              "      <td>4</td>\n",
              "      <td>10 VINS</td>\n",
              "      <td>The first wine-by-the-glass connected sommelie...</td>\n",
              "      <td>https://storage.googleapis.com/dealroom-images...</td>\n",
              "      <td>NaN</td>\n",
              "      <td>Non disponible</td>\n",
              "      <td>NaN</td>\n",
              "      <td>1 ou 2 salariés</td>\n",
              "      <td>B2B</td>\n",
              "      <td>b2c, food, home living, in-store retail &amp; rest...</td>\n",
              "      <td>NaN</td>\n",
              "      <td>Nantes, France</td>\n",
              "      <td>NaN</td>\n",
              "      <td>NaN</td>\n",
              "      <td>NaN</td>\n",
              "      <td>47.218637</td>\n",
              "      <td>-1.554136</td>\n",
              "      <td>NaN</td>\n",
              "      <td>NaN</td>\n",
              "    </tr>\n",
              "    <tr>\n",
              "      <th>4</th>\n",
              "      <td>5</td>\n",
              "      <td>1001 SALLES</td>\n",
              "      <td>Allowing to respond quickly and efficiently to...</td>\n",
              "      <td>https://storage.googleapis.com/dealroom-images...</td>\n",
              "      <td>NaN</td>\n",
              "      <td>Non disponible</td>\n",
              "      <td>NaN</td>\n",
              "      <td>20 à 49 salariés</td>\n",
              "      <td>NaN</td>\n",
              "      <td>marketplace &amp; ecommerce, subscription, travel</td>\n",
              "      <td>NaN</td>\n",
              "      <td>Ivry-sur-Seine, France</td>\n",
              "      <td>2000-01-01</td>\n",
              "      <td>NaN</td>\n",
              "      <td>NaN</td>\n",
              "      <td>48.812230</td>\n",
              "      <td>2.387253</td>\n",
              "      <td>NaN</td>\n",
              "      <td>NaN</td>\n",
              "    </tr>\n",
              "    <tr>\n",
              "      <th>5</th>\n",
              "      <td>6</td>\n",
              "      <td>1001-ARCHITECTURES</td>\n",
              "      <td>1001 Façons de sublimer votre espace de vie</td>\n",
              "      <td>https://d3kqkuy1hpjocx.cloudfront.net/s3fs-pub...</td>\n",
              "      <td>PME</td>\n",
              "      <td>841823347</td>\n",
              "      <td>59.11A</td>\n",
              "      <td>NaN</td>\n",
              "      <td>NaN</td>\n",
              "      <td>habitat</td>\n",
              "      <td>https://1001-architectures.fr/?utm_source=LesP...</td>\n",
              "      <td>2b Rue des Marronniers 67760 Gambsheim</td>\n",
              "      <td>2018-08-01</td>\n",
              "      <td>8.418233e+13</td>\n",
              "      <td>NaN</td>\n",
              "      <td>48.695616</td>\n",
              "      <td>7.890065</td>\n",
              "      <td>59</td>\n",
              "      <td>NaN</td>\n",
              "    </tr>\n",
              "    <tr>\n",
              "      <th>6</th>\n",
              "      <td>7</td>\n",
              "      <td>1001MAQUETTES</td>\n",
              "      <td>Online retailer of plastic models of planes, t...</td>\n",
              "      <td>https://storage.googleapis.com/dealroom-images...</td>\n",
              "      <td>NaN</td>\n",
              "      <td>Non disponible</td>\n",
              "      <td>NaN</td>\n",
              "      <td>3 à 5 salariés</td>\n",
              "      <td>NaN</td>\n",
              "      <td>home living</td>\n",
              "      <td>NaN</td>\n",
              "      <td>Paris, France</td>\n",
              "      <td>2011-01-01</td>\n",
              "      <td>NaN</td>\n",
              "      <td>NaN</td>\n",
              "      <td>48.858890</td>\n",
              "      <td>2.320041</td>\n",
              "      <td>NaN</td>\n",
              "      <td>NaN</td>\n",
              "    </tr>\n",
              "    <tr>\n",
              "      <th>7</th>\n",
              "      <td>8</td>\n",
              "      <td>1001PHARMACIES</td>\n",
              "      <td>Achetez sur internet chez les pharmacies franç...</td>\n",
              "      <td>https://storage.googleapis.com/dealroom-images...</td>\n",
              "      <td>PME</td>\n",
              "      <td>812052017</td>\n",
              "      <td>64.20Z</td>\n",
              "      <td>3 à 5 salariés</td>\n",
              "      <td>B2C</td>\n",
              "      <td>, marketplace, telecommunications, santé, e-co...</td>\n",
              "      <td>https://www.1001pharmacies.com/</td>\n",
              "      <td>128 Rue la Boétie 75008 Paris</td>\n",
              "      <td>2015-06-09</td>\n",
              "      <td>8.120520e+13</td>\n",
              "      <td>NaN</td>\n",
              "      <td>48.870955</td>\n",
              "      <td>2.305982</td>\n",
              "      <td>64</td>\n",
              "      <td>Activités financières et d’assurance</td>\n",
              "    </tr>\n",
              "    <tr>\n",
              "      <th>8</th>\n",
              "      <td>9</td>\n",
              "      <td>100M</td>\n",
              "      <td>100M simplifie la production du reporting trad...</td>\n",
              "      <td>https://upload.prd.hbd.cloud.bpifrance.fr/star...</td>\n",
              "      <td>NaN</td>\n",
              "      <td>823095401</td>\n",
              "      <td>58.29A</td>\n",
              "      <td>NaN</td>\n",
              "      <td>NaN</td>\n",
              "      <td>, bretagne, b2b</td>\n",
              "      <td>NaN</td>\n",
              "      <td>NaN</td>\n",
              "      <td>2016-09-30</td>\n",
              "      <td>8.230954e+13</td>\n",
              "      <td>2019-08-31</td>\n",
              "      <td>NaN</td>\n",
              "      <td>NaN</td>\n",
              "      <td>58</td>\n",
              "      <td>Édition</td>\n",
              "    </tr>\n",
              "    <tr>\n",
              "      <th>9</th>\n",
              "      <td>10</td>\n",
              "      <td>1083</td>\n",
              "      <td>Manufacture jeans and shoes in France</td>\n",
              "      <td>https://storage.googleapis.com/dealroom-images...</td>\n",
              "      <td>PME</td>\n",
              "      <td>804409134</td>\n",
              "      <td>47.71Z</td>\n",
              "      <td>50 à 99 salariés</td>\n",
              "      <td>B2C</td>\n",
              "      <td>fashion, manufacturing, selling own inventory</td>\n",
              "      <td>NaN</td>\n",
              "      <td>49 Avenue Gambetta 26100 Romans-sur-Isère</td>\n",
              "      <td>2014-08-27</td>\n",
              "      <td>8.044091e+13</td>\n",
              "      <td>NaN</td>\n",
              "      <td>45.045131</td>\n",
              "      <td>5.060219</td>\n",
              "      <td>47</td>\n",
              "      <td>NaN</td>\n",
              "    </tr>\n",
              "    <tr>\n",
              "      <th>10</th>\n",
              "      <td>11</td>\n",
              "      <td>10H11</td>\n",
              "      <td>10h11 est une société technologique dans l’opt...</td>\n",
              "      <td>https://storage.googleapis.com/dealroom-images...</td>\n",
              "      <td>PME</td>\n",
              "      <td>531294296</td>\n",
              "      <td>58.29C</td>\n",
              "      <td>20 à 49 salariés</td>\n",
              "      <td>B2C</td>\n",
              "      <td>, b2b, nouvelle-aquitaine, bordeaux, gironde, ...</td>\n",
              "      <td>https://www.10h11.com/</td>\n",
              "      <td>88 Rue Judaïque 33000 Bordeaux</td>\n",
              "      <td>2011-03-07</td>\n",
              "      <td>5.312943e+13</td>\n",
              "      <td>NaN</td>\n",
              "      <td>44.841166</td>\n",
              "      <td>-0.586128</td>\n",
              "      <td>58</td>\n",
              "      <td>Édition</td>\n",
              "    </tr>\n",
              "    <tr>\n",
              "      <th>11</th>\n",
              "      <td>12</td>\n",
              "      <td>12BIS</td>\n",
              "      <td>Publishes predominantly bande dessinée comic b...</td>\n",
              "      <td>https://storage.googleapis.com/dealroom-images...</td>\n",
              "      <td>NaN</td>\n",
              "      <td>330674136</td>\n",
              "      <td>68.20B</td>\n",
              "      <td>20 à 49 salariés</td>\n",
              "      <td>B2C</td>\n",
              "      <td>media</td>\n",
              "      <td>NaN</td>\n",
              "      <td>Avenue Gambetta 28300 Mainvilliers</td>\n",
              "      <td>1984-09-10</td>\n",
              "      <td>3.306741e+13</td>\n",
              "      <td>NaN</td>\n",
              "      <td>48.453573</td>\n",
              "      <td>1.465347</td>\n",
              "      <td>68</td>\n",
              "      <td>Activités immobilières</td>\n",
              "    </tr>\n",
              "    <tr>\n",
              "      <th>12</th>\n",
              "      <td>13</td>\n",
              "      <td>14H28</td>\n",
              "      <td>Agence de marketing numérique</td>\n",
              "      <td>https://upload.prd.hbd.cloud.bpifrance.fr/d09a...</td>\n",
              "      <td>PME</td>\n",
              "      <td>438157679</td>\n",
              "      <td>73.11Z</td>\n",
              "      <td>NaN</td>\n",
              "      <td>NaN</td>\n",
              "      <td>, b2b, marketing / communication, martech /adt...</td>\n",
              "      <td>https://14h28.com/</td>\n",
              "      <td>111 Rue du Luxembourg 59100 Roubaix</td>\n",
              "      <td>2001-06-01</td>\n",
              "      <td>4.381577e+13</td>\n",
              "      <td>NaN</td>\n",
              "      <td>50.690291</td>\n",
              "      <td>3.155135</td>\n",
              "      <td>73</td>\n",
              "      <td>Publicité et études de marché</td>\n",
              "    </tr>\n",
              "    <tr>\n",
              "      <th>13</th>\n",
              "      <td>14</td>\n",
              "      <td>17H10</td>\n",
              "      <td>Tailleurs et costumes à composer</td>\n",
              "      <td>https://storage.googleapis.com/dealroom-images...</td>\n",
              "      <td>NaN</td>\n",
              "      <td>Non disponible</td>\n",
              "      <td>NaN</td>\n",
              "      <td>20 à 49 salariés</td>\n",
              "      <td>B2C</td>\n",
              "      <td>fashion, manufacturing, selling own inventory</td>\n",
              "      <td>NaN</td>\n",
              "      <td>Paris, France</td>\n",
              "      <td>2018-01-01</td>\n",
              "      <td>NaN</td>\n",
              "      <td>NaN</td>\n",
              "      <td>48.858890</td>\n",
              "      <td>2.320041</td>\n",
              "      <td>NaN</td>\n",
              "      <td>NaN</td>\n",
              "    </tr>\n",
              "    <tr>\n",
              "      <th>14</th>\n",
              "      <td>15</td>\n",
              "      <td>1889 EXPERIENCE</td>\n",
              "      <td>Reinvent customer relations in luxury</td>\n",
              "      <td>https://storage.googleapis.com/dealroom-images...</td>\n",
              "      <td>NaN</td>\n",
              "      <td>Non disponible</td>\n",
              "      <td>NaN</td>\n",
              "      <td>20 à 49 salariés</td>\n",
              "      <td>B2C</td>\n",
              "      <td>home living</td>\n",
              "      <td>NaN</td>\n",
              "      <td>Paris, France</td>\n",
              "      <td>NaN</td>\n",
              "      <td>NaN</td>\n",
              "      <td>NaN</td>\n",
              "      <td>48.858890</td>\n",
              "      <td>2.320041</td>\n",
              "      <td>NaN</td>\n",
              "      <td>NaN</td>\n",
              "    </tr>\n",
              "    <tr>\n",
              "      <th>15</th>\n",
              "      <td>16</td>\n",
              "      <td>18DUCKS.SOLUTIONS</td>\n",
              "      <td>Cn285 SaaS Recurring Billing : automatiser la ...</td>\n",
              "      <td>https://d3kqkuy1hpjocx.cloudfront.net/s3fs-pub...</td>\n",
              "      <td>PME</td>\n",
              "      <td>900836792</td>\n",
              "      <td>71.12B</td>\n",
              "      <td>NaN</td>\n",
              "      <td>NaN</td>\n",
              "      <td>abonnement</td>\n",
              "      <td>https://www.cn285.app/?utm_source=LesPepitesTe...</td>\n",
              "      <td>1484 route de la Croix de May</td>\n",
              "      <td>2021-06-16</td>\n",
              "      <td>9.008368e+13</td>\n",
              "      <td>NaN</td>\n",
              "      <td>45.134862</td>\n",
              "      <td>5.333681</td>\n",
              "      <td>71</td>\n",
              "      <td>Ingénierie et études techniques</td>\n",
              "    </tr>\n",
              "    <tr>\n",
              "      <th>16</th>\n",
              "      <td>17</td>\n",
              "      <td>18H08</td>\n",
              "      <td>Lancez des campagnes d'influence performantes ...</td>\n",
              "      <td>https://d3kqkuy1hpjocx.cloudfront.net/s3fs-pub...</td>\n",
              "      <td>NaN</td>\n",
              "      <td>Non disponible</td>\n",
              "      <td>NaN</td>\n",
              "      <td>NaN</td>\n",
              "      <td>NaN</td>\n",
              "      <td>influence</td>\n",
              "      <td>http://18h08.fr/?utm_source=LesPepitesTech.com</td>\n",
              "      <td>Rue Antoine Bourdelle, Marseille</td>\n",
              "      <td>NaN</td>\n",
              "      <td>NaN</td>\n",
              "      <td>NaN</td>\n",
              "      <td>NaN</td>\n",
              "      <td>NaN</td>\n",
              "      <td>NaN</td>\n",
              "      <td>NaN</td>\n",
              "    </tr>\n",
              "    <tr>\n",
              "      <th>17</th>\n",
              "      <td>18</td>\n",
              "      <td>1913</td>\n",
              "      <td>Mobile, fixed, internet, and fleet management ...</td>\n",
              "      <td>https://storage.googleapis.com/dealroom-images...</td>\n",
              "      <td>PME</td>\n",
              "      <td>751713074</td>\n",
              "      <td>47.59B</td>\n",
              "      <td>50 à 99 salariés</td>\n",
              "      <td>B2B</td>\n",
              "      <td>subscription, telecom</td>\n",
              "      <td>NaN</td>\n",
              "      <td>Roubaix, France</td>\n",
              "      <td>2012-06-01</td>\n",
              "      <td>7.517131e+13</td>\n",
              "      <td>NaN</td>\n",
              "      <td>50.691589</td>\n",
              "      <td>3.174173</td>\n",
              "      <td>47</td>\n",
              "      <td>NaN</td>\n",
              "    </tr>\n",
              "    <tr>\n",
              "      <th>18</th>\n",
              "      <td>19</td>\n",
              "      <td>1D LAB</td>\n",
              "      <td>Cooperative society of collective interest (SC...</td>\n",
              "      <td>https://storage.googleapis.com/dealroom-images...</td>\n",
              "      <td>NaN</td>\n",
              "      <td>Non disponible</td>\n",
              "      <td>NaN</td>\n",
              "      <td>20 à 49 salariés</td>\n",
              "      <td>B2B</td>\n",
              "      <td>b2c, content production, media, saas, subscrip...</td>\n",
              "      <td>NaN</td>\n",
              "      <td>Saint-Étienne, France</td>\n",
              "      <td>2010-01-01</td>\n",
              "      <td>NaN</td>\n",
              "      <td>NaN</td>\n",
              "      <td>45.440147</td>\n",
              "      <td>4.387306</td>\n",
              "      <td>NaN</td>\n",
              "      <td>NaN</td>\n",
              "    </tr>\n",
              "    <tr>\n",
              "      <th>19</th>\n",
              "      <td>20</td>\n",
              "      <td>1KM A PIED</td>\n",
              "      <td>Notre algorithme de répartition optimal trouve...</td>\n",
              "      <td>https://storage.googleapis.com/dealroom-images...</td>\n",
              "      <td>NaN</td>\n",
              "      <td>NaN</td>\n",
              "      <td>NaN</td>\n",
              "      <td>20 à 49 salariés</td>\n",
              "      <td>B2B</td>\n",
              "      <td>, transport / logistique, software, energie / ...</td>\n",
              "      <td>https://www.1kmapied.com/</td>\n",
              "      <td>Paris, France</td>\n",
              "      <td>NaN</td>\n",
              "      <td>NaN</td>\n",
              "      <td>NaN</td>\n",
              "      <td>48.858890</td>\n",
              "      <td>2.320041</td>\n",
              "      <td>NaN</td>\n",
              "      <td>NaN</td>\n",
              "    </tr>\n",
              "  </tbody>\n",
              "</table>\n",
              "</div>"
            ],
            "text/plain": [
              "    entreprise_id                 nom  \\\n",
              "0               1            #DOT:DOT   \n",
              "1               2             +SIMPLE   \n",
              "2               3             03 JULY   \n",
              "3               4             10 VINS   \n",
              "4               5         1001 SALLES   \n",
              "5               6  1001-ARCHITECTURES   \n",
              "6               7       1001MAQUETTES   \n",
              "7               8      1001PHARMACIES   \n",
              "8               9                100M   \n",
              "9              10                1083   \n",
              "10             11               10H11   \n",
              "11             12               12BIS   \n",
              "12             13               14H28   \n",
              "13             14               17H10   \n",
              "14             15     1889 EXPERIENCE   \n",
              "15             16   18DUCKS.SOLUTIONS   \n",
              "16             17               18H08   \n",
              "17             18                1913   \n",
              "18             19              1D LAB   \n",
              "19             20          1KM A PIED   \n",
              "\n",
              "                                          description  \\\n",
              "0   #dot:dot est un réseau mobile WiFi maillé oppo...   \n",
              "1   An insurance Robo-Broker for freelancers, smal...   \n",
              "2   Nice and useful, what else? We at 03 July, we ...   \n",
              "3   The first wine-by-the-glass connected sommelie...   \n",
              "4   Allowing to respond quickly and efficiently to...   \n",
              "5         1001 Façons de sublimer votre espace de vie   \n",
              "6   Online retailer of plastic models of planes, t...   \n",
              "7   Achetez sur internet chez les pharmacies franç...   \n",
              "8   100M simplifie la production du reporting trad...   \n",
              "9               Manufacture jeans and shoes in France   \n",
              "10  10h11 est une société technologique dans l’opt...   \n",
              "11  Publishes predominantly bande dessinée comic b...   \n",
              "12                      Agence de marketing numérique   \n",
              "13                   Tailleurs et costumes à composer   \n",
              "14              Reinvent customer relations in luxury   \n",
              "15  Cn285 SaaS Recurring Billing : automatiser la ...   \n",
              "16  Lancez des campagnes d'influence performantes ...   \n",
              "17  Mobile, fixed, internet, and fleet management ...   \n",
              "18  Cooperative society of collective interest (SC...   \n",
              "19  Notre algorithme de répartition optimal trouve...   \n",
              "\n",
              "                                                 logo Type d'organisme  \\\n",
              "0   https://d3kqkuy1hpjocx.cloudfront.net/s3fs-pub...              PME   \n",
              "1   https://storage.googleapis.com/dealroom-images...              NaN   \n",
              "2   https://storage.googleapis.com/dealroom-images...              NaN   \n",
              "3   https://storage.googleapis.com/dealroom-images...              NaN   \n",
              "4   https://storage.googleapis.com/dealroom-images...              NaN   \n",
              "5   https://d3kqkuy1hpjocx.cloudfront.net/s3fs-pub...              PME   \n",
              "6   https://storage.googleapis.com/dealroom-images...              NaN   \n",
              "7   https://storage.googleapis.com/dealroom-images...              PME   \n",
              "8   https://upload.prd.hbd.cloud.bpifrance.fr/star...              NaN   \n",
              "9   https://storage.googleapis.com/dealroom-images...              PME   \n",
              "10  https://storage.googleapis.com/dealroom-images...              PME   \n",
              "11  https://storage.googleapis.com/dealroom-images...              NaN   \n",
              "12  https://upload.prd.hbd.cloud.bpifrance.fr/d09a...              PME   \n",
              "13  https://storage.googleapis.com/dealroom-images...              NaN   \n",
              "14  https://storage.googleapis.com/dealroom-images...              NaN   \n",
              "15  https://d3kqkuy1hpjocx.cloudfront.net/s3fs-pub...              PME   \n",
              "16  https://d3kqkuy1hpjocx.cloudfront.net/s3fs-pub...              NaN   \n",
              "17  https://storage.googleapis.com/dealroom-images...              PME   \n",
              "18  https://storage.googleapis.com/dealroom-images...              NaN   \n",
              "19  https://storage.googleapis.com/dealroom-images...              NaN   \n",
              "\n",
              "             SIREN Activité principale      Effectif_def market  \\\n",
              "0              NaN                 NaN               NaN    NaN   \n",
              "1   Non disponible                 NaN  50 à 99 salariés    B2B   \n",
              "2   Non disponible                 NaN  20 à 49 salariés    B2B   \n",
              "3   Non disponible                 NaN   1 ou 2 salariés    B2B   \n",
              "4   Non disponible                 NaN  20 à 49 salariés    NaN   \n",
              "5        841823347              59.11A               NaN    NaN   \n",
              "6   Non disponible                 NaN    3 à 5 salariés    NaN   \n",
              "7        812052017              64.20Z    3 à 5 salariés    B2C   \n",
              "8        823095401              58.29A               NaN    NaN   \n",
              "9        804409134              47.71Z  50 à 99 salariés    B2C   \n",
              "10       531294296              58.29C  20 à 49 salariés    B2C   \n",
              "11       330674136              68.20B  20 à 49 salariés    B2C   \n",
              "12       438157679              73.11Z               NaN    NaN   \n",
              "13  Non disponible                 NaN  20 à 49 salariés    B2C   \n",
              "14  Non disponible                 NaN  20 à 49 salariés    B2C   \n",
              "15       900836792              71.12B               NaN    NaN   \n",
              "16  Non disponible                 NaN               NaN    NaN   \n",
              "17       751713074              47.59B  50 à 99 salariés    B2B   \n",
              "18  Non disponible                 NaN  20 à 49 salariés    B2B   \n",
              "19             NaN                 NaN  20 à 49 salariés    B2B   \n",
              "\n",
              "                                        mots_cles_def  \\\n",
              "0   infrastructures du numérique,                 ...   \n",
              "1   commission, fintech, insurance, marketplace & ...   \n",
              "2                        b2c, hosting, semiconductors   \n",
              "3   b2c, food, home living, in-store retail & rest...   \n",
              "4       marketplace & ecommerce, subscription, travel   \n",
              "5                                             habitat   \n",
              "6                                         home living   \n",
              "7   , marketplace, telecommunications, santé, e-co...   \n",
              "8                                     , bretagne, b2b   \n",
              "9       fashion, manufacturing, selling own inventory   \n",
              "10  , b2b, nouvelle-aquitaine, bordeaux, gironde, ...   \n",
              "11                                              media   \n",
              "12  , b2b, marketing / communication, martech /adt...   \n",
              "13      fashion, manufacturing, selling own inventory   \n",
              "14                                        home living   \n",
              "15                                         abonnement   \n",
              "16                                          influence   \n",
              "17                              subscription, telecom   \n",
              "18  b2c, content production, media, saas, subscrip...   \n",
              "19  , transport / logistique, software, energie / ...   \n",
              "\n",
              "                                         site_web_def  \\\n",
              "0    https://dotdot.fr/?utm_source=LesPepitesTech.com   \n",
              "1                                                 NaN   \n",
              "2                                                 NaN   \n",
              "3                                                 NaN   \n",
              "4                                                 NaN   \n",
              "5   https://1001-architectures.fr/?utm_source=LesP...   \n",
              "6                                                 NaN   \n",
              "7                     https://www.1001pharmacies.com/   \n",
              "8                                                 NaN   \n",
              "9                                                 NaN   \n",
              "10                             https://www.10h11.com/   \n",
              "11                                                NaN   \n",
              "12                                 https://14h28.com/   \n",
              "13                                                NaN   \n",
              "14                                                NaN   \n",
              "15  https://www.cn285.app/?utm_source=LesPepitesTe...   \n",
              "16     http://18h08.fr/?utm_source=LesPepitesTech.com   \n",
              "17                                                NaN   \n",
              "18                                                NaN   \n",
              "19                          https://www.1kmapied.com/   \n",
              "\n",
              "                                          adresse_def date_creation_def  \\\n",
              "0   9 Avenue Paul Verlaine 38100 GRENOBLE, 9 Avenu...               NaN   \n",
              "1                                       Paris, France        2015-01-01   \n",
              "2                                       Paris, France        2012-01-01   \n",
              "3                                      Nantes, France               NaN   \n",
              "4                              Ivry-sur-Seine, France        2000-01-01   \n",
              "5              2b Rue des Marronniers 67760 Gambsheim        2018-08-01   \n",
              "6                                       Paris, France        2011-01-01   \n",
              "7                       128 Rue la Boétie 75008 Paris        2015-06-09   \n",
              "8                                                 NaN        2016-09-30   \n",
              "9           49 Avenue Gambetta 26100 Romans-sur-Isère        2014-08-27   \n",
              "10                     88 Rue Judaïque 33000 Bordeaux        2011-03-07   \n",
              "11                 Avenue Gambetta 28300 Mainvilliers        1984-09-10   \n",
              "12                111 Rue du Luxembourg 59100 Roubaix        2001-06-01   \n",
              "13                                      Paris, France        2018-01-01   \n",
              "14                                      Paris, France               NaN   \n",
              "15                      1484 route de la Croix de May        2021-06-16   \n",
              "16                   Rue Antoine Bourdelle, Marseille               NaN   \n",
              "17                                    Roubaix, France        2012-06-01   \n",
              "18                              Saint-Étienne, France        2010-01-01   \n",
              "19                                      Paris, France               NaN   \n",
              "\n",
              "           SIRET Date de fermeture   latitude  longitude Secteur  \\\n",
              "0            NaN               NaN        NaN        NaN     NaN   \n",
              "1            NaN               NaN  48.858890   2.320041     NaN   \n",
              "2            NaN               NaN  48.858890   2.320041     NaN   \n",
              "3            NaN               NaN  47.218637  -1.554136     NaN   \n",
              "4            NaN               NaN  48.812230   2.387253     NaN   \n",
              "5   8.418233e+13               NaN  48.695616   7.890065      59   \n",
              "6            NaN               NaN  48.858890   2.320041     NaN   \n",
              "7   8.120520e+13               NaN  48.870955   2.305982      64   \n",
              "8   8.230954e+13        2019-08-31        NaN        NaN      58   \n",
              "9   8.044091e+13               NaN  45.045131   5.060219      47   \n",
              "10  5.312943e+13               NaN  44.841166  -0.586128      58   \n",
              "11  3.306741e+13               NaN  48.453573   1.465347      68   \n",
              "12  4.381577e+13               NaN  50.690291   3.155135      73   \n",
              "13           NaN               NaN  48.858890   2.320041     NaN   \n",
              "14           NaN               NaN  48.858890   2.320041     NaN   \n",
              "15  9.008368e+13               NaN  45.134862   5.333681      71   \n",
              "16           NaN               NaN        NaN        NaN     NaN   \n",
              "17  7.517131e+13               NaN  50.691589   3.174173      47   \n",
              "18           NaN               NaN  45.440147   4.387306     NaN   \n",
              "19           NaN               NaN  48.858890   2.320041     NaN   \n",
              "\n",
              "                             Nom Secteur  \n",
              "0                                    NaN  \n",
              "1                                    NaN  \n",
              "2                                    NaN  \n",
              "3                                    NaN  \n",
              "4                                    NaN  \n",
              "5                                    NaN  \n",
              "6                                    NaN  \n",
              "7   Activités financières et d’assurance  \n",
              "8                                Édition  \n",
              "9                                    NaN  \n",
              "10                               Édition  \n",
              "11                Activités immobilières  \n",
              "12         Publicité et études de marché  \n",
              "13                                   NaN  \n",
              "14                                   NaN  \n",
              "15       Ingénierie et études techniques  \n",
              "16                                   NaN  \n",
              "17                                   NaN  \n",
              "18                                   NaN  \n",
              "19                                   NaN  "
            ]
          },
          "execution_count": 10,
          "metadata": {},
          "output_type": "execute_result"
        }
      ],
      "source": [
        "df.head(20)"
      ]
    },
    {
      "cell_type": "code",
      "execution_count": 11,
      "metadata": {
        "colab": {
          "base_uri": "https://localhost:8080/",
          "height": 424
        },
        "id": "-ULHTSpRMa2L",
        "outputId": "de351c1c-62d0-45eb-d38b-67a41bc4e5d1"
      },
      "outputs": [
        {
          "data": {
            "text/plain": [
              "20 à 49 salariés         3201\n",
              "3 à 5 salariés           2147\n",
              "50 à 99 salariés         1297\n",
              "1 ou 2 salariés           685\n",
              "200 à 499 salariés        236\n",
              "0 salarié                 107\n",
              "500 à 999 salariés         92\n",
              "1000 à 1999 salariés       87\n",
              "5000 salariés ou plus      48\n",
              "Effectif inconnu           29\n",
              "Name: Effectif_def, dtype: int64"
            ]
          },
          "execution_count": 11,
          "metadata": {},
          "output_type": "execute_result"
        }
      ],
      "source": [
        "df['Effectif_def'].value_counts()\n"
      ]
    },
    {
      "cell_type": "code",
      "execution_count": 12,
      "metadata": {
        "colab": {
          "base_uri": "https://localhost:8080/",
          "height": 542
        },
        "id": "kE6hsUQwWAtA",
        "outputId": "24b367a9-0610-4ad0-e085-92ab129ebab1"
      },
      "outputs": [
        {
          "data": {
            "application/vnd.plotly.v1+json": {
              "config": {
                "plotlyServerURL": "https://plot.ly"
              },
              "data": [
                {
                  "alignmentgroup": "True",
                  "hovertemplate": "Nombre=%{text}<br>Secteur=%{y}<extra></extra>",
                  "legendgroup": "",
                  "marker": {
                    "color": "#636efa",
                    "pattern": {
                      "shape": ""
                    }
                  },
                  "name": "",
                  "offsetgroup": "",
                  "orientation": "h",
                  "showlegend": false,
                  "text": [
                    450,
                    463,
                    507,
                    705,
                    1865
                  ],
                  "textposition": "auto",
                  "type": "bar",
                  "x": [
                    450,
                    463,
                    507,
                    705,
                    1865
                  ],
                  "xaxis": "x",
                  "y": [
                    "Activités immobilières",
                    "Ingénierie et études techniques",
                    "Activités des sièges sociaux, conseil en gestion",
                    "Édition",
                    "Programmation, conseil et autres activités informatiques"
                  ],
                  "yaxis": "y"
                }
              ],
              "layout": {
                "barmode": "relative",
                "legend": {
                  "tracegroupgap": 0
                },
                "template": {
                  "data": {
                    "bar": [
                      {
                        "error_x": {
                          "color": "#2a3f5f"
                        },
                        "error_y": {
                          "color": "#2a3f5f"
                        },
                        "marker": {
                          "line": {
                            "color": "#E5ECF6",
                            "width": 0.5
                          },
                          "pattern": {
                            "fillmode": "overlay",
                            "size": 10,
                            "solidity": 0.2
                          }
                        },
                        "type": "bar"
                      }
                    ],
                    "barpolar": [
                      {
                        "marker": {
                          "line": {
                            "color": "#E5ECF6",
                            "width": 0.5
                          },
                          "pattern": {
                            "fillmode": "overlay",
                            "size": 10,
                            "solidity": 0.2
                          }
                        },
                        "type": "barpolar"
                      }
                    ],
                    "carpet": [
                      {
                        "aaxis": {
                          "endlinecolor": "#2a3f5f",
                          "gridcolor": "white",
                          "linecolor": "white",
                          "minorgridcolor": "white",
                          "startlinecolor": "#2a3f5f"
                        },
                        "baxis": {
                          "endlinecolor": "#2a3f5f",
                          "gridcolor": "white",
                          "linecolor": "white",
                          "minorgridcolor": "white",
                          "startlinecolor": "#2a3f5f"
                        },
                        "type": "carpet"
                      }
                    ],
                    "choropleth": [
                      {
                        "colorbar": {
                          "outlinewidth": 0,
                          "ticks": ""
                        },
                        "type": "choropleth"
                      }
                    ],
                    "contour": [
                      {
                        "colorbar": {
                          "outlinewidth": 0,
                          "ticks": ""
                        },
                        "colorscale": [
                          [
                            0,
                            "#0d0887"
                          ],
                          [
                            0.1111111111111111,
                            "#46039f"
                          ],
                          [
                            0.2222222222222222,
                            "#7201a8"
                          ],
                          [
                            0.3333333333333333,
                            "#9c179e"
                          ],
                          [
                            0.4444444444444444,
                            "#bd3786"
                          ],
                          [
                            0.5555555555555556,
                            "#d8576b"
                          ],
                          [
                            0.6666666666666666,
                            "#ed7953"
                          ],
                          [
                            0.7777777777777778,
                            "#fb9f3a"
                          ],
                          [
                            0.8888888888888888,
                            "#fdca26"
                          ],
                          [
                            1,
                            "#f0f921"
                          ]
                        ],
                        "type": "contour"
                      }
                    ],
                    "contourcarpet": [
                      {
                        "colorbar": {
                          "outlinewidth": 0,
                          "ticks": ""
                        },
                        "type": "contourcarpet"
                      }
                    ],
                    "heatmap": [
                      {
                        "colorbar": {
                          "outlinewidth": 0,
                          "ticks": ""
                        },
                        "colorscale": [
                          [
                            0,
                            "#0d0887"
                          ],
                          [
                            0.1111111111111111,
                            "#46039f"
                          ],
                          [
                            0.2222222222222222,
                            "#7201a8"
                          ],
                          [
                            0.3333333333333333,
                            "#9c179e"
                          ],
                          [
                            0.4444444444444444,
                            "#bd3786"
                          ],
                          [
                            0.5555555555555556,
                            "#d8576b"
                          ],
                          [
                            0.6666666666666666,
                            "#ed7953"
                          ],
                          [
                            0.7777777777777778,
                            "#fb9f3a"
                          ],
                          [
                            0.8888888888888888,
                            "#fdca26"
                          ],
                          [
                            1,
                            "#f0f921"
                          ]
                        ],
                        "type": "heatmap"
                      }
                    ],
                    "heatmapgl": [
                      {
                        "colorbar": {
                          "outlinewidth": 0,
                          "ticks": ""
                        },
                        "colorscale": [
                          [
                            0,
                            "#0d0887"
                          ],
                          [
                            0.1111111111111111,
                            "#46039f"
                          ],
                          [
                            0.2222222222222222,
                            "#7201a8"
                          ],
                          [
                            0.3333333333333333,
                            "#9c179e"
                          ],
                          [
                            0.4444444444444444,
                            "#bd3786"
                          ],
                          [
                            0.5555555555555556,
                            "#d8576b"
                          ],
                          [
                            0.6666666666666666,
                            "#ed7953"
                          ],
                          [
                            0.7777777777777778,
                            "#fb9f3a"
                          ],
                          [
                            0.8888888888888888,
                            "#fdca26"
                          ],
                          [
                            1,
                            "#f0f921"
                          ]
                        ],
                        "type": "heatmapgl"
                      }
                    ],
                    "histogram": [
                      {
                        "marker": {
                          "pattern": {
                            "fillmode": "overlay",
                            "size": 10,
                            "solidity": 0.2
                          }
                        },
                        "type": "histogram"
                      }
                    ],
                    "histogram2d": [
                      {
                        "colorbar": {
                          "outlinewidth": 0,
                          "ticks": ""
                        },
                        "colorscale": [
                          [
                            0,
                            "#0d0887"
                          ],
                          [
                            0.1111111111111111,
                            "#46039f"
                          ],
                          [
                            0.2222222222222222,
                            "#7201a8"
                          ],
                          [
                            0.3333333333333333,
                            "#9c179e"
                          ],
                          [
                            0.4444444444444444,
                            "#bd3786"
                          ],
                          [
                            0.5555555555555556,
                            "#d8576b"
                          ],
                          [
                            0.6666666666666666,
                            "#ed7953"
                          ],
                          [
                            0.7777777777777778,
                            "#fb9f3a"
                          ],
                          [
                            0.8888888888888888,
                            "#fdca26"
                          ],
                          [
                            1,
                            "#f0f921"
                          ]
                        ],
                        "type": "histogram2d"
                      }
                    ],
                    "histogram2dcontour": [
                      {
                        "colorbar": {
                          "outlinewidth": 0,
                          "ticks": ""
                        },
                        "colorscale": [
                          [
                            0,
                            "#0d0887"
                          ],
                          [
                            0.1111111111111111,
                            "#46039f"
                          ],
                          [
                            0.2222222222222222,
                            "#7201a8"
                          ],
                          [
                            0.3333333333333333,
                            "#9c179e"
                          ],
                          [
                            0.4444444444444444,
                            "#bd3786"
                          ],
                          [
                            0.5555555555555556,
                            "#d8576b"
                          ],
                          [
                            0.6666666666666666,
                            "#ed7953"
                          ],
                          [
                            0.7777777777777778,
                            "#fb9f3a"
                          ],
                          [
                            0.8888888888888888,
                            "#fdca26"
                          ],
                          [
                            1,
                            "#f0f921"
                          ]
                        ],
                        "type": "histogram2dcontour"
                      }
                    ],
                    "mesh3d": [
                      {
                        "colorbar": {
                          "outlinewidth": 0,
                          "ticks": ""
                        },
                        "type": "mesh3d"
                      }
                    ],
                    "parcoords": [
                      {
                        "line": {
                          "colorbar": {
                            "outlinewidth": 0,
                            "ticks": ""
                          }
                        },
                        "type": "parcoords"
                      }
                    ],
                    "pie": [
                      {
                        "automargin": true,
                        "type": "pie"
                      }
                    ],
                    "scatter": [
                      {
                        "fillpattern": {
                          "fillmode": "overlay",
                          "size": 10,
                          "solidity": 0.2
                        },
                        "type": "scatter"
                      }
                    ],
                    "scatter3d": [
                      {
                        "line": {
                          "colorbar": {
                            "outlinewidth": 0,
                            "ticks": ""
                          }
                        },
                        "marker": {
                          "colorbar": {
                            "outlinewidth": 0,
                            "ticks": ""
                          }
                        },
                        "type": "scatter3d"
                      }
                    ],
                    "scattercarpet": [
                      {
                        "marker": {
                          "colorbar": {
                            "outlinewidth": 0,
                            "ticks": ""
                          }
                        },
                        "type": "scattercarpet"
                      }
                    ],
                    "scattergeo": [
                      {
                        "marker": {
                          "colorbar": {
                            "outlinewidth": 0,
                            "ticks": ""
                          }
                        },
                        "type": "scattergeo"
                      }
                    ],
                    "scattergl": [
                      {
                        "marker": {
                          "colorbar": {
                            "outlinewidth": 0,
                            "ticks": ""
                          }
                        },
                        "type": "scattergl"
                      }
                    ],
                    "scattermapbox": [
                      {
                        "marker": {
                          "colorbar": {
                            "outlinewidth": 0,
                            "ticks": ""
                          }
                        },
                        "type": "scattermapbox"
                      }
                    ],
                    "scatterpolar": [
                      {
                        "marker": {
                          "colorbar": {
                            "outlinewidth": 0,
                            "ticks": ""
                          }
                        },
                        "type": "scatterpolar"
                      }
                    ],
                    "scatterpolargl": [
                      {
                        "marker": {
                          "colorbar": {
                            "outlinewidth": 0,
                            "ticks": ""
                          }
                        },
                        "type": "scatterpolargl"
                      }
                    ],
                    "scatterternary": [
                      {
                        "marker": {
                          "colorbar": {
                            "outlinewidth": 0,
                            "ticks": ""
                          }
                        },
                        "type": "scatterternary"
                      }
                    ],
                    "surface": [
                      {
                        "colorbar": {
                          "outlinewidth": 0,
                          "ticks": ""
                        },
                        "colorscale": [
                          [
                            0,
                            "#0d0887"
                          ],
                          [
                            0.1111111111111111,
                            "#46039f"
                          ],
                          [
                            0.2222222222222222,
                            "#7201a8"
                          ],
                          [
                            0.3333333333333333,
                            "#9c179e"
                          ],
                          [
                            0.4444444444444444,
                            "#bd3786"
                          ],
                          [
                            0.5555555555555556,
                            "#d8576b"
                          ],
                          [
                            0.6666666666666666,
                            "#ed7953"
                          ],
                          [
                            0.7777777777777778,
                            "#fb9f3a"
                          ],
                          [
                            0.8888888888888888,
                            "#fdca26"
                          ],
                          [
                            1,
                            "#f0f921"
                          ]
                        ],
                        "type": "surface"
                      }
                    ],
                    "table": [
                      {
                        "cells": {
                          "fill": {
                            "color": "#EBF0F8"
                          },
                          "line": {
                            "color": "white"
                          }
                        },
                        "header": {
                          "fill": {
                            "color": "#C8D4E3"
                          },
                          "line": {
                            "color": "white"
                          }
                        },
                        "type": "table"
                      }
                    ]
                  },
                  "layout": {
                    "annotationdefaults": {
                      "arrowcolor": "#2a3f5f",
                      "arrowhead": 0,
                      "arrowwidth": 1
                    },
                    "autotypenumbers": "strict",
                    "coloraxis": {
                      "colorbar": {
                        "outlinewidth": 0,
                        "ticks": ""
                      }
                    },
                    "colorscale": {
                      "diverging": [
                        [
                          0,
                          "#8e0152"
                        ],
                        [
                          0.1,
                          "#c51b7d"
                        ],
                        [
                          0.2,
                          "#de77ae"
                        ],
                        [
                          0.3,
                          "#f1b6da"
                        ],
                        [
                          0.4,
                          "#fde0ef"
                        ],
                        [
                          0.5,
                          "#f7f7f7"
                        ],
                        [
                          0.6,
                          "#e6f5d0"
                        ],
                        [
                          0.7,
                          "#b8e186"
                        ],
                        [
                          0.8,
                          "#7fbc41"
                        ],
                        [
                          0.9,
                          "#4d9221"
                        ],
                        [
                          1,
                          "#276419"
                        ]
                      ],
                      "sequential": [
                        [
                          0,
                          "#0d0887"
                        ],
                        [
                          0.1111111111111111,
                          "#46039f"
                        ],
                        [
                          0.2222222222222222,
                          "#7201a8"
                        ],
                        [
                          0.3333333333333333,
                          "#9c179e"
                        ],
                        [
                          0.4444444444444444,
                          "#bd3786"
                        ],
                        [
                          0.5555555555555556,
                          "#d8576b"
                        ],
                        [
                          0.6666666666666666,
                          "#ed7953"
                        ],
                        [
                          0.7777777777777778,
                          "#fb9f3a"
                        ],
                        [
                          0.8888888888888888,
                          "#fdca26"
                        ],
                        [
                          1,
                          "#f0f921"
                        ]
                      ],
                      "sequentialminus": [
                        [
                          0,
                          "#0d0887"
                        ],
                        [
                          0.1111111111111111,
                          "#46039f"
                        ],
                        [
                          0.2222222222222222,
                          "#7201a8"
                        ],
                        [
                          0.3333333333333333,
                          "#9c179e"
                        ],
                        [
                          0.4444444444444444,
                          "#bd3786"
                        ],
                        [
                          0.5555555555555556,
                          "#d8576b"
                        ],
                        [
                          0.6666666666666666,
                          "#ed7953"
                        ],
                        [
                          0.7777777777777778,
                          "#fb9f3a"
                        ],
                        [
                          0.8888888888888888,
                          "#fdca26"
                        ],
                        [
                          1,
                          "#f0f921"
                        ]
                      ]
                    },
                    "colorway": [
                      "#636efa",
                      "#EF553B",
                      "#00cc96",
                      "#ab63fa",
                      "#FFA15A",
                      "#19d3f3",
                      "#FF6692",
                      "#B6E880",
                      "#FF97FF",
                      "#FECB52"
                    ],
                    "font": {
                      "color": "#2a3f5f"
                    },
                    "geo": {
                      "bgcolor": "white",
                      "lakecolor": "white",
                      "landcolor": "#E5ECF6",
                      "showlakes": true,
                      "showland": true,
                      "subunitcolor": "white"
                    },
                    "hoverlabel": {
                      "align": "left"
                    },
                    "hovermode": "closest",
                    "mapbox": {
                      "style": "light"
                    },
                    "paper_bgcolor": "white",
                    "plot_bgcolor": "#E5ECF6",
                    "polar": {
                      "angularaxis": {
                        "gridcolor": "white",
                        "linecolor": "white",
                        "ticks": ""
                      },
                      "bgcolor": "#E5ECF6",
                      "radialaxis": {
                        "gridcolor": "white",
                        "linecolor": "white",
                        "ticks": ""
                      }
                    },
                    "scene": {
                      "xaxis": {
                        "backgroundcolor": "#E5ECF6",
                        "gridcolor": "white",
                        "gridwidth": 2,
                        "linecolor": "white",
                        "showbackground": true,
                        "ticks": "",
                        "zerolinecolor": "white"
                      },
                      "yaxis": {
                        "backgroundcolor": "#E5ECF6",
                        "gridcolor": "white",
                        "gridwidth": 2,
                        "linecolor": "white",
                        "showbackground": true,
                        "ticks": "",
                        "zerolinecolor": "white"
                      },
                      "zaxis": {
                        "backgroundcolor": "#E5ECF6",
                        "gridcolor": "white",
                        "gridwidth": 2,
                        "linecolor": "white",
                        "showbackground": true,
                        "ticks": "",
                        "zerolinecolor": "white"
                      }
                    },
                    "shapedefaults": {
                      "line": {
                        "color": "#2a3f5f"
                      }
                    },
                    "ternary": {
                      "aaxis": {
                        "gridcolor": "white",
                        "linecolor": "white",
                        "ticks": ""
                      },
                      "baxis": {
                        "gridcolor": "white",
                        "linecolor": "white",
                        "ticks": ""
                      },
                      "bgcolor": "#E5ECF6",
                      "caxis": {
                        "gridcolor": "white",
                        "linecolor": "white",
                        "ticks": ""
                      }
                    },
                    "title": {
                      "x": 0.05
                    },
                    "xaxis": {
                      "automargin": true,
                      "gridcolor": "white",
                      "linecolor": "white",
                      "ticks": "",
                      "title": {
                        "standoff": 15
                      },
                      "zerolinecolor": "white",
                      "zerolinewidth": 2
                    },
                    "yaxis": {
                      "automargin": true,
                      "gridcolor": "white",
                      "linecolor": "white",
                      "ticks": "",
                      "title": {
                        "standoff": 15
                      },
                      "zerolinecolor": "white",
                      "zerolinewidth": 2
                    }
                  }
                },
                "title": {
                  "text": "Distribution des Secteurs d'Activité (TOP 5)"
                },
                "xaxis": {
                  "anchor": "y",
                  "domain": [
                    0,
                    1
                  ],
                  "title": {
                    "text": "Nombre"
                  }
                },
                "yaxis": {
                  "anchor": "x",
                  "domain": [
                    0,
                    1
                  ],
                  "title": {
                    "text": "Secteur"
                  }
                }
              }
            }
          },
          "metadata": {},
          "output_type": "display_data"
        }
      ],
      "source": [
        "# Calculer la distribution des valeurs et trier par ordre décroissant\n",
        "distribution = df['Nom Secteur'].value_counts().reset_index()\n",
        "distribution.columns = ['Nom Secteur', 'Count']\n",
        "\n",
        "# Filtrer pour afficher uniquement le TOP 5\n",
        "distribution_top5 = distribution.sort_values(by='Count', ascending=True).tail(5)\n",
        "\n",
        "# Créer le graphique en barres\n",
        "fig = px.bar(distribution_top5, x='Count', y='Nom Secteur',\n",
        "             title=\"Distribution des Secteurs d'Activité (TOP 5)\",\n",
        "             labels={'Nom Secteur': 'Secteur', 'Count': 'Nombre'},\n",
        "             text='Count')\n",
        "\n",
        "# Afficher le graphique\n",
        "fig.show()"
      ]
    },
    {
      "cell_type": "code",
      "execution_count": 13,
      "metadata": {
        "colab": {
          "base_uri": "https://localhost:8080/",
          "height": 542
        },
        "id": "VftNF75rZ5q7",
        "outputId": "9d35bfee-9a74-40c1-ca74-53fffefbb667"
      },
      "outputs": [
        {
          "data": {
            "application/vnd.plotly.v1+json": {
              "config": {
                "plotlyServerURL": "https://plot.ly"
              },
              "data": [
                {
                  "alignmentgroup": "True",
                  "hovertemplate": "Nombre=%{text}<br>Secteur=%{y}<extra></extra>",
                  "legendgroup": "",
                  "marker": {
                    "color": "#636efa",
                    "pattern": {
                      "shape": ""
                    }
                  },
                  "name": "",
                  "offsetgroup": "",
                  "orientation": "h",
                  "showlegend": false,
                  "text": [
                    1,
                    6,
                    7,
                    10,
                    16
                  ],
                  "textposition": "auto",
                  "type": "bar",
                  "x": [
                    1,
                    6,
                    7,
                    10,
                    16
                  ],
                  "xaxis": "x",
                  "y": [
                    "Sylviculture et exploitation forestière",
                    "Fabrication de textiles",
                    "Pêche et aquaculture",
                    "Agriculture",
                    "Imprimerie et reproduction d'enregistrements"
                  ],
                  "yaxis": "y"
                }
              ],
              "layout": {
                "barmode": "relative",
                "legend": {
                  "tracegroupgap": 0
                },
                "template": {
                  "data": {
                    "bar": [
                      {
                        "error_x": {
                          "color": "#2a3f5f"
                        },
                        "error_y": {
                          "color": "#2a3f5f"
                        },
                        "marker": {
                          "line": {
                            "color": "#E5ECF6",
                            "width": 0.5
                          },
                          "pattern": {
                            "fillmode": "overlay",
                            "size": 10,
                            "solidity": 0.2
                          }
                        },
                        "type": "bar"
                      }
                    ],
                    "barpolar": [
                      {
                        "marker": {
                          "line": {
                            "color": "#E5ECF6",
                            "width": 0.5
                          },
                          "pattern": {
                            "fillmode": "overlay",
                            "size": 10,
                            "solidity": 0.2
                          }
                        },
                        "type": "barpolar"
                      }
                    ],
                    "carpet": [
                      {
                        "aaxis": {
                          "endlinecolor": "#2a3f5f",
                          "gridcolor": "white",
                          "linecolor": "white",
                          "minorgridcolor": "white",
                          "startlinecolor": "#2a3f5f"
                        },
                        "baxis": {
                          "endlinecolor": "#2a3f5f",
                          "gridcolor": "white",
                          "linecolor": "white",
                          "minorgridcolor": "white",
                          "startlinecolor": "#2a3f5f"
                        },
                        "type": "carpet"
                      }
                    ],
                    "choropleth": [
                      {
                        "colorbar": {
                          "outlinewidth": 0,
                          "ticks": ""
                        },
                        "type": "choropleth"
                      }
                    ],
                    "contour": [
                      {
                        "colorbar": {
                          "outlinewidth": 0,
                          "ticks": ""
                        },
                        "colorscale": [
                          [
                            0,
                            "#0d0887"
                          ],
                          [
                            0.1111111111111111,
                            "#46039f"
                          ],
                          [
                            0.2222222222222222,
                            "#7201a8"
                          ],
                          [
                            0.3333333333333333,
                            "#9c179e"
                          ],
                          [
                            0.4444444444444444,
                            "#bd3786"
                          ],
                          [
                            0.5555555555555556,
                            "#d8576b"
                          ],
                          [
                            0.6666666666666666,
                            "#ed7953"
                          ],
                          [
                            0.7777777777777778,
                            "#fb9f3a"
                          ],
                          [
                            0.8888888888888888,
                            "#fdca26"
                          ],
                          [
                            1,
                            "#f0f921"
                          ]
                        ],
                        "type": "contour"
                      }
                    ],
                    "contourcarpet": [
                      {
                        "colorbar": {
                          "outlinewidth": 0,
                          "ticks": ""
                        },
                        "type": "contourcarpet"
                      }
                    ],
                    "heatmap": [
                      {
                        "colorbar": {
                          "outlinewidth": 0,
                          "ticks": ""
                        },
                        "colorscale": [
                          [
                            0,
                            "#0d0887"
                          ],
                          [
                            0.1111111111111111,
                            "#46039f"
                          ],
                          [
                            0.2222222222222222,
                            "#7201a8"
                          ],
                          [
                            0.3333333333333333,
                            "#9c179e"
                          ],
                          [
                            0.4444444444444444,
                            "#bd3786"
                          ],
                          [
                            0.5555555555555556,
                            "#d8576b"
                          ],
                          [
                            0.6666666666666666,
                            "#ed7953"
                          ],
                          [
                            0.7777777777777778,
                            "#fb9f3a"
                          ],
                          [
                            0.8888888888888888,
                            "#fdca26"
                          ],
                          [
                            1,
                            "#f0f921"
                          ]
                        ],
                        "type": "heatmap"
                      }
                    ],
                    "heatmapgl": [
                      {
                        "colorbar": {
                          "outlinewidth": 0,
                          "ticks": ""
                        },
                        "colorscale": [
                          [
                            0,
                            "#0d0887"
                          ],
                          [
                            0.1111111111111111,
                            "#46039f"
                          ],
                          [
                            0.2222222222222222,
                            "#7201a8"
                          ],
                          [
                            0.3333333333333333,
                            "#9c179e"
                          ],
                          [
                            0.4444444444444444,
                            "#bd3786"
                          ],
                          [
                            0.5555555555555556,
                            "#d8576b"
                          ],
                          [
                            0.6666666666666666,
                            "#ed7953"
                          ],
                          [
                            0.7777777777777778,
                            "#fb9f3a"
                          ],
                          [
                            0.8888888888888888,
                            "#fdca26"
                          ],
                          [
                            1,
                            "#f0f921"
                          ]
                        ],
                        "type": "heatmapgl"
                      }
                    ],
                    "histogram": [
                      {
                        "marker": {
                          "pattern": {
                            "fillmode": "overlay",
                            "size": 10,
                            "solidity": 0.2
                          }
                        },
                        "type": "histogram"
                      }
                    ],
                    "histogram2d": [
                      {
                        "colorbar": {
                          "outlinewidth": 0,
                          "ticks": ""
                        },
                        "colorscale": [
                          [
                            0,
                            "#0d0887"
                          ],
                          [
                            0.1111111111111111,
                            "#46039f"
                          ],
                          [
                            0.2222222222222222,
                            "#7201a8"
                          ],
                          [
                            0.3333333333333333,
                            "#9c179e"
                          ],
                          [
                            0.4444444444444444,
                            "#bd3786"
                          ],
                          [
                            0.5555555555555556,
                            "#d8576b"
                          ],
                          [
                            0.6666666666666666,
                            "#ed7953"
                          ],
                          [
                            0.7777777777777778,
                            "#fb9f3a"
                          ],
                          [
                            0.8888888888888888,
                            "#fdca26"
                          ],
                          [
                            1,
                            "#f0f921"
                          ]
                        ],
                        "type": "histogram2d"
                      }
                    ],
                    "histogram2dcontour": [
                      {
                        "colorbar": {
                          "outlinewidth": 0,
                          "ticks": ""
                        },
                        "colorscale": [
                          [
                            0,
                            "#0d0887"
                          ],
                          [
                            0.1111111111111111,
                            "#46039f"
                          ],
                          [
                            0.2222222222222222,
                            "#7201a8"
                          ],
                          [
                            0.3333333333333333,
                            "#9c179e"
                          ],
                          [
                            0.4444444444444444,
                            "#bd3786"
                          ],
                          [
                            0.5555555555555556,
                            "#d8576b"
                          ],
                          [
                            0.6666666666666666,
                            "#ed7953"
                          ],
                          [
                            0.7777777777777778,
                            "#fb9f3a"
                          ],
                          [
                            0.8888888888888888,
                            "#fdca26"
                          ],
                          [
                            1,
                            "#f0f921"
                          ]
                        ],
                        "type": "histogram2dcontour"
                      }
                    ],
                    "mesh3d": [
                      {
                        "colorbar": {
                          "outlinewidth": 0,
                          "ticks": ""
                        },
                        "type": "mesh3d"
                      }
                    ],
                    "parcoords": [
                      {
                        "line": {
                          "colorbar": {
                            "outlinewidth": 0,
                            "ticks": ""
                          }
                        },
                        "type": "parcoords"
                      }
                    ],
                    "pie": [
                      {
                        "automargin": true,
                        "type": "pie"
                      }
                    ],
                    "scatter": [
                      {
                        "fillpattern": {
                          "fillmode": "overlay",
                          "size": 10,
                          "solidity": 0.2
                        },
                        "type": "scatter"
                      }
                    ],
                    "scatter3d": [
                      {
                        "line": {
                          "colorbar": {
                            "outlinewidth": 0,
                            "ticks": ""
                          }
                        },
                        "marker": {
                          "colorbar": {
                            "outlinewidth": 0,
                            "ticks": ""
                          }
                        },
                        "type": "scatter3d"
                      }
                    ],
                    "scattercarpet": [
                      {
                        "marker": {
                          "colorbar": {
                            "outlinewidth": 0,
                            "ticks": ""
                          }
                        },
                        "type": "scattercarpet"
                      }
                    ],
                    "scattergeo": [
                      {
                        "marker": {
                          "colorbar": {
                            "outlinewidth": 0,
                            "ticks": ""
                          }
                        },
                        "type": "scattergeo"
                      }
                    ],
                    "scattergl": [
                      {
                        "marker": {
                          "colorbar": {
                            "outlinewidth": 0,
                            "ticks": ""
                          }
                        },
                        "type": "scattergl"
                      }
                    ],
                    "scattermapbox": [
                      {
                        "marker": {
                          "colorbar": {
                            "outlinewidth": 0,
                            "ticks": ""
                          }
                        },
                        "type": "scattermapbox"
                      }
                    ],
                    "scatterpolar": [
                      {
                        "marker": {
                          "colorbar": {
                            "outlinewidth": 0,
                            "ticks": ""
                          }
                        },
                        "type": "scatterpolar"
                      }
                    ],
                    "scatterpolargl": [
                      {
                        "marker": {
                          "colorbar": {
                            "outlinewidth": 0,
                            "ticks": ""
                          }
                        },
                        "type": "scatterpolargl"
                      }
                    ],
                    "scatterternary": [
                      {
                        "marker": {
                          "colorbar": {
                            "outlinewidth": 0,
                            "ticks": ""
                          }
                        },
                        "type": "scatterternary"
                      }
                    ],
                    "surface": [
                      {
                        "colorbar": {
                          "outlinewidth": 0,
                          "ticks": ""
                        },
                        "colorscale": [
                          [
                            0,
                            "#0d0887"
                          ],
                          [
                            0.1111111111111111,
                            "#46039f"
                          ],
                          [
                            0.2222222222222222,
                            "#7201a8"
                          ],
                          [
                            0.3333333333333333,
                            "#9c179e"
                          ],
                          [
                            0.4444444444444444,
                            "#bd3786"
                          ],
                          [
                            0.5555555555555556,
                            "#d8576b"
                          ],
                          [
                            0.6666666666666666,
                            "#ed7953"
                          ],
                          [
                            0.7777777777777778,
                            "#fb9f3a"
                          ],
                          [
                            0.8888888888888888,
                            "#fdca26"
                          ],
                          [
                            1,
                            "#f0f921"
                          ]
                        ],
                        "type": "surface"
                      }
                    ],
                    "table": [
                      {
                        "cells": {
                          "fill": {
                            "color": "#EBF0F8"
                          },
                          "line": {
                            "color": "white"
                          }
                        },
                        "header": {
                          "fill": {
                            "color": "#C8D4E3"
                          },
                          "line": {
                            "color": "white"
                          }
                        },
                        "type": "table"
                      }
                    ]
                  },
                  "layout": {
                    "annotationdefaults": {
                      "arrowcolor": "#2a3f5f",
                      "arrowhead": 0,
                      "arrowwidth": 1
                    },
                    "autotypenumbers": "strict",
                    "coloraxis": {
                      "colorbar": {
                        "outlinewidth": 0,
                        "ticks": ""
                      }
                    },
                    "colorscale": {
                      "diverging": [
                        [
                          0,
                          "#8e0152"
                        ],
                        [
                          0.1,
                          "#c51b7d"
                        ],
                        [
                          0.2,
                          "#de77ae"
                        ],
                        [
                          0.3,
                          "#f1b6da"
                        ],
                        [
                          0.4,
                          "#fde0ef"
                        ],
                        [
                          0.5,
                          "#f7f7f7"
                        ],
                        [
                          0.6,
                          "#e6f5d0"
                        ],
                        [
                          0.7,
                          "#b8e186"
                        ],
                        [
                          0.8,
                          "#7fbc41"
                        ],
                        [
                          0.9,
                          "#4d9221"
                        ],
                        [
                          1,
                          "#276419"
                        ]
                      ],
                      "sequential": [
                        [
                          0,
                          "#0d0887"
                        ],
                        [
                          0.1111111111111111,
                          "#46039f"
                        ],
                        [
                          0.2222222222222222,
                          "#7201a8"
                        ],
                        [
                          0.3333333333333333,
                          "#9c179e"
                        ],
                        [
                          0.4444444444444444,
                          "#bd3786"
                        ],
                        [
                          0.5555555555555556,
                          "#d8576b"
                        ],
                        [
                          0.6666666666666666,
                          "#ed7953"
                        ],
                        [
                          0.7777777777777778,
                          "#fb9f3a"
                        ],
                        [
                          0.8888888888888888,
                          "#fdca26"
                        ],
                        [
                          1,
                          "#f0f921"
                        ]
                      ],
                      "sequentialminus": [
                        [
                          0,
                          "#0d0887"
                        ],
                        [
                          0.1111111111111111,
                          "#46039f"
                        ],
                        [
                          0.2222222222222222,
                          "#7201a8"
                        ],
                        [
                          0.3333333333333333,
                          "#9c179e"
                        ],
                        [
                          0.4444444444444444,
                          "#bd3786"
                        ],
                        [
                          0.5555555555555556,
                          "#d8576b"
                        ],
                        [
                          0.6666666666666666,
                          "#ed7953"
                        ],
                        [
                          0.7777777777777778,
                          "#fb9f3a"
                        ],
                        [
                          0.8888888888888888,
                          "#fdca26"
                        ],
                        [
                          1,
                          "#f0f921"
                        ]
                      ]
                    },
                    "colorway": [
                      "#636efa",
                      "#EF553B",
                      "#00cc96",
                      "#ab63fa",
                      "#FFA15A",
                      "#19d3f3",
                      "#FF6692",
                      "#B6E880",
                      "#FF97FF",
                      "#FECB52"
                    ],
                    "font": {
                      "color": "#2a3f5f"
                    },
                    "geo": {
                      "bgcolor": "white",
                      "lakecolor": "white",
                      "landcolor": "#E5ECF6",
                      "showlakes": true,
                      "showland": true,
                      "subunitcolor": "white"
                    },
                    "hoverlabel": {
                      "align": "left"
                    },
                    "hovermode": "closest",
                    "mapbox": {
                      "style": "light"
                    },
                    "paper_bgcolor": "white",
                    "plot_bgcolor": "#E5ECF6",
                    "polar": {
                      "angularaxis": {
                        "gridcolor": "white",
                        "linecolor": "white",
                        "ticks": ""
                      },
                      "bgcolor": "#E5ECF6",
                      "radialaxis": {
                        "gridcolor": "white",
                        "linecolor": "white",
                        "ticks": ""
                      }
                    },
                    "scene": {
                      "xaxis": {
                        "backgroundcolor": "#E5ECF6",
                        "gridcolor": "white",
                        "gridwidth": 2,
                        "linecolor": "white",
                        "showbackground": true,
                        "ticks": "",
                        "zerolinecolor": "white"
                      },
                      "yaxis": {
                        "backgroundcolor": "#E5ECF6",
                        "gridcolor": "white",
                        "gridwidth": 2,
                        "linecolor": "white",
                        "showbackground": true,
                        "ticks": "",
                        "zerolinecolor": "white"
                      },
                      "zaxis": {
                        "backgroundcolor": "#E5ECF6",
                        "gridcolor": "white",
                        "gridwidth": 2,
                        "linecolor": "white",
                        "showbackground": true,
                        "ticks": "",
                        "zerolinecolor": "white"
                      }
                    },
                    "shapedefaults": {
                      "line": {
                        "color": "#2a3f5f"
                      }
                    },
                    "ternary": {
                      "aaxis": {
                        "gridcolor": "white",
                        "linecolor": "white",
                        "ticks": ""
                      },
                      "baxis": {
                        "gridcolor": "white",
                        "linecolor": "white",
                        "ticks": ""
                      },
                      "bgcolor": "#E5ECF6",
                      "caxis": {
                        "gridcolor": "white",
                        "linecolor": "white",
                        "ticks": ""
                      }
                    },
                    "title": {
                      "x": 0.05
                    },
                    "xaxis": {
                      "automargin": true,
                      "gridcolor": "white",
                      "linecolor": "white",
                      "ticks": "",
                      "title": {
                        "standoff": 15
                      },
                      "zerolinecolor": "white",
                      "zerolinewidth": 2
                    },
                    "yaxis": {
                      "automargin": true,
                      "gridcolor": "white",
                      "linecolor": "white",
                      "ticks": "",
                      "title": {
                        "standoff": 15
                      },
                      "zerolinecolor": "white",
                      "zerolinewidth": 2
                    }
                  }
                },
                "title": {
                  "text": "TOP 5 Bottom"
                },
                "xaxis": {
                  "anchor": "y",
                  "domain": [
                    0,
                    1
                  ],
                  "title": {
                    "text": "Nombre"
                  }
                },
                "yaxis": {
                  "anchor": "x",
                  "domain": [
                    0,
                    1
                  ],
                  "title": {
                    "text": "Secteur"
                  }
                }
              }
            }
          },
          "metadata": {},
          "output_type": "display_data"
        }
      ],
      "source": [
        "# Calculer la distribution des valeurs et trier par ordre décroissant\n",
        "distribution = df['Nom Secteur'].value_counts().reset_index()\n",
        "distribution.columns = ['Nom Secteur', 'Count']\n",
        "\n",
        "# Filtrer pour afficher uniquement le TOP 5\n",
        "distribution_top5 = distribution.sort_values(by='Count', ascending=True).head(5)\n",
        "\n",
        "# Créer le graphique en barres\n",
        "fig = px.bar(distribution_top5, x='Count', y='Nom Secteur',\n",
        "             title=\"TOP 5 Bottom\",\n",
        "             labels={'Nom Secteur': 'Secteur', 'Count': 'Nombre'},\n",
        "             text='Count')\n",
        "\n",
        "# Afficher le graphique\n",
        "fig.show()"
      ]
    },
    {
      "cell_type": "code",
      "execution_count": 14,
      "metadata": {
        "colab": {
          "base_uri": "https://localhost:8080/",
          "height": 542
        },
        "id": "5ee9C0EJZYcX",
        "outputId": "c2792ac0-0c52-4cff-b41b-b3a992b87b8c"
      },
      "outputs": [
        {
          "data": {
            "application/vnd.plotly.v1+json": {
              "config": {
                "plotlyServerURL": "https://plot.ly"
              },
              "data": [
                {
                  "alignmentgroup": "True",
                  "hovertemplate": "Nombre=%{text}<br>Effectif=%{y}<extra></extra>",
                  "legendgroup": "",
                  "marker": {
                    "color": "#636efa",
                    "pattern": {
                      "shape": ""
                    }
                  },
                  "name": "",
                  "offsetgroup": "",
                  "orientation": "h",
                  "showlegend": false,
                  "text": [
                    236,
                    685,
                    1297,
                    2147,
                    3201
                  ],
                  "textposition": "auto",
                  "type": "bar",
                  "x": [
                    236,
                    685,
                    1297,
                    2147,
                    3201
                  ],
                  "xaxis": "x",
                  "y": [
                    "200 à 499 salariés",
                    "1 ou 2 salariés",
                    "50 à 99 salariés",
                    "3 à 5 salariés",
                    "20 à 49 salariés"
                  ],
                  "yaxis": "y"
                }
              ],
              "layout": {
                "barmode": "relative",
                "legend": {
                  "tracegroupgap": 0
                },
                "template": {
                  "data": {
                    "bar": [
                      {
                        "error_x": {
                          "color": "#2a3f5f"
                        },
                        "error_y": {
                          "color": "#2a3f5f"
                        },
                        "marker": {
                          "line": {
                            "color": "#E5ECF6",
                            "width": 0.5
                          },
                          "pattern": {
                            "fillmode": "overlay",
                            "size": 10,
                            "solidity": 0.2
                          }
                        },
                        "type": "bar"
                      }
                    ],
                    "barpolar": [
                      {
                        "marker": {
                          "line": {
                            "color": "#E5ECF6",
                            "width": 0.5
                          },
                          "pattern": {
                            "fillmode": "overlay",
                            "size": 10,
                            "solidity": 0.2
                          }
                        },
                        "type": "barpolar"
                      }
                    ],
                    "carpet": [
                      {
                        "aaxis": {
                          "endlinecolor": "#2a3f5f",
                          "gridcolor": "white",
                          "linecolor": "white",
                          "minorgridcolor": "white",
                          "startlinecolor": "#2a3f5f"
                        },
                        "baxis": {
                          "endlinecolor": "#2a3f5f",
                          "gridcolor": "white",
                          "linecolor": "white",
                          "minorgridcolor": "white",
                          "startlinecolor": "#2a3f5f"
                        },
                        "type": "carpet"
                      }
                    ],
                    "choropleth": [
                      {
                        "colorbar": {
                          "outlinewidth": 0,
                          "ticks": ""
                        },
                        "type": "choropleth"
                      }
                    ],
                    "contour": [
                      {
                        "colorbar": {
                          "outlinewidth": 0,
                          "ticks": ""
                        },
                        "colorscale": [
                          [
                            0,
                            "#0d0887"
                          ],
                          [
                            0.1111111111111111,
                            "#46039f"
                          ],
                          [
                            0.2222222222222222,
                            "#7201a8"
                          ],
                          [
                            0.3333333333333333,
                            "#9c179e"
                          ],
                          [
                            0.4444444444444444,
                            "#bd3786"
                          ],
                          [
                            0.5555555555555556,
                            "#d8576b"
                          ],
                          [
                            0.6666666666666666,
                            "#ed7953"
                          ],
                          [
                            0.7777777777777778,
                            "#fb9f3a"
                          ],
                          [
                            0.8888888888888888,
                            "#fdca26"
                          ],
                          [
                            1,
                            "#f0f921"
                          ]
                        ],
                        "type": "contour"
                      }
                    ],
                    "contourcarpet": [
                      {
                        "colorbar": {
                          "outlinewidth": 0,
                          "ticks": ""
                        },
                        "type": "contourcarpet"
                      }
                    ],
                    "heatmap": [
                      {
                        "colorbar": {
                          "outlinewidth": 0,
                          "ticks": ""
                        },
                        "colorscale": [
                          [
                            0,
                            "#0d0887"
                          ],
                          [
                            0.1111111111111111,
                            "#46039f"
                          ],
                          [
                            0.2222222222222222,
                            "#7201a8"
                          ],
                          [
                            0.3333333333333333,
                            "#9c179e"
                          ],
                          [
                            0.4444444444444444,
                            "#bd3786"
                          ],
                          [
                            0.5555555555555556,
                            "#d8576b"
                          ],
                          [
                            0.6666666666666666,
                            "#ed7953"
                          ],
                          [
                            0.7777777777777778,
                            "#fb9f3a"
                          ],
                          [
                            0.8888888888888888,
                            "#fdca26"
                          ],
                          [
                            1,
                            "#f0f921"
                          ]
                        ],
                        "type": "heatmap"
                      }
                    ],
                    "heatmapgl": [
                      {
                        "colorbar": {
                          "outlinewidth": 0,
                          "ticks": ""
                        },
                        "colorscale": [
                          [
                            0,
                            "#0d0887"
                          ],
                          [
                            0.1111111111111111,
                            "#46039f"
                          ],
                          [
                            0.2222222222222222,
                            "#7201a8"
                          ],
                          [
                            0.3333333333333333,
                            "#9c179e"
                          ],
                          [
                            0.4444444444444444,
                            "#bd3786"
                          ],
                          [
                            0.5555555555555556,
                            "#d8576b"
                          ],
                          [
                            0.6666666666666666,
                            "#ed7953"
                          ],
                          [
                            0.7777777777777778,
                            "#fb9f3a"
                          ],
                          [
                            0.8888888888888888,
                            "#fdca26"
                          ],
                          [
                            1,
                            "#f0f921"
                          ]
                        ],
                        "type": "heatmapgl"
                      }
                    ],
                    "histogram": [
                      {
                        "marker": {
                          "pattern": {
                            "fillmode": "overlay",
                            "size": 10,
                            "solidity": 0.2
                          }
                        },
                        "type": "histogram"
                      }
                    ],
                    "histogram2d": [
                      {
                        "colorbar": {
                          "outlinewidth": 0,
                          "ticks": ""
                        },
                        "colorscale": [
                          [
                            0,
                            "#0d0887"
                          ],
                          [
                            0.1111111111111111,
                            "#46039f"
                          ],
                          [
                            0.2222222222222222,
                            "#7201a8"
                          ],
                          [
                            0.3333333333333333,
                            "#9c179e"
                          ],
                          [
                            0.4444444444444444,
                            "#bd3786"
                          ],
                          [
                            0.5555555555555556,
                            "#d8576b"
                          ],
                          [
                            0.6666666666666666,
                            "#ed7953"
                          ],
                          [
                            0.7777777777777778,
                            "#fb9f3a"
                          ],
                          [
                            0.8888888888888888,
                            "#fdca26"
                          ],
                          [
                            1,
                            "#f0f921"
                          ]
                        ],
                        "type": "histogram2d"
                      }
                    ],
                    "histogram2dcontour": [
                      {
                        "colorbar": {
                          "outlinewidth": 0,
                          "ticks": ""
                        },
                        "colorscale": [
                          [
                            0,
                            "#0d0887"
                          ],
                          [
                            0.1111111111111111,
                            "#46039f"
                          ],
                          [
                            0.2222222222222222,
                            "#7201a8"
                          ],
                          [
                            0.3333333333333333,
                            "#9c179e"
                          ],
                          [
                            0.4444444444444444,
                            "#bd3786"
                          ],
                          [
                            0.5555555555555556,
                            "#d8576b"
                          ],
                          [
                            0.6666666666666666,
                            "#ed7953"
                          ],
                          [
                            0.7777777777777778,
                            "#fb9f3a"
                          ],
                          [
                            0.8888888888888888,
                            "#fdca26"
                          ],
                          [
                            1,
                            "#f0f921"
                          ]
                        ],
                        "type": "histogram2dcontour"
                      }
                    ],
                    "mesh3d": [
                      {
                        "colorbar": {
                          "outlinewidth": 0,
                          "ticks": ""
                        },
                        "type": "mesh3d"
                      }
                    ],
                    "parcoords": [
                      {
                        "line": {
                          "colorbar": {
                            "outlinewidth": 0,
                            "ticks": ""
                          }
                        },
                        "type": "parcoords"
                      }
                    ],
                    "pie": [
                      {
                        "automargin": true,
                        "type": "pie"
                      }
                    ],
                    "scatter": [
                      {
                        "fillpattern": {
                          "fillmode": "overlay",
                          "size": 10,
                          "solidity": 0.2
                        },
                        "type": "scatter"
                      }
                    ],
                    "scatter3d": [
                      {
                        "line": {
                          "colorbar": {
                            "outlinewidth": 0,
                            "ticks": ""
                          }
                        },
                        "marker": {
                          "colorbar": {
                            "outlinewidth": 0,
                            "ticks": ""
                          }
                        },
                        "type": "scatter3d"
                      }
                    ],
                    "scattercarpet": [
                      {
                        "marker": {
                          "colorbar": {
                            "outlinewidth": 0,
                            "ticks": ""
                          }
                        },
                        "type": "scattercarpet"
                      }
                    ],
                    "scattergeo": [
                      {
                        "marker": {
                          "colorbar": {
                            "outlinewidth": 0,
                            "ticks": ""
                          }
                        },
                        "type": "scattergeo"
                      }
                    ],
                    "scattergl": [
                      {
                        "marker": {
                          "colorbar": {
                            "outlinewidth": 0,
                            "ticks": ""
                          }
                        },
                        "type": "scattergl"
                      }
                    ],
                    "scattermapbox": [
                      {
                        "marker": {
                          "colorbar": {
                            "outlinewidth": 0,
                            "ticks": ""
                          }
                        },
                        "type": "scattermapbox"
                      }
                    ],
                    "scatterpolar": [
                      {
                        "marker": {
                          "colorbar": {
                            "outlinewidth": 0,
                            "ticks": ""
                          }
                        },
                        "type": "scatterpolar"
                      }
                    ],
                    "scatterpolargl": [
                      {
                        "marker": {
                          "colorbar": {
                            "outlinewidth": 0,
                            "ticks": ""
                          }
                        },
                        "type": "scatterpolargl"
                      }
                    ],
                    "scatterternary": [
                      {
                        "marker": {
                          "colorbar": {
                            "outlinewidth": 0,
                            "ticks": ""
                          }
                        },
                        "type": "scatterternary"
                      }
                    ],
                    "surface": [
                      {
                        "colorbar": {
                          "outlinewidth": 0,
                          "ticks": ""
                        },
                        "colorscale": [
                          [
                            0,
                            "#0d0887"
                          ],
                          [
                            0.1111111111111111,
                            "#46039f"
                          ],
                          [
                            0.2222222222222222,
                            "#7201a8"
                          ],
                          [
                            0.3333333333333333,
                            "#9c179e"
                          ],
                          [
                            0.4444444444444444,
                            "#bd3786"
                          ],
                          [
                            0.5555555555555556,
                            "#d8576b"
                          ],
                          [
                            0.6666666666666666,
                            "#ed7953"
                          ],
                          [
                            0.7777777777777778,
                            "#fb9f3a"
                          ],
                          [
                            0.8888888888888888,
                            "#fdca26"
                          ],
                          [
                            1,
                            "#f0f921"
                          ]
                        ],
                        "type": "surface"
                      }
                    ],
                    "table": [
                      {
                        "cells": {
                          "fill": {
                            "color": "#EBF0F8"
                          },
                          "line": {
                            "color": "white"
                          }
                        },
                        "header": {
                          "fill": {
                            "color": "#C8D4E3"
                          },
                          "line": {
                            "color": "white"
                          }
                        },
                        "type": "table"
                      }
                    ]
                  },
                  "layout": {
                    "annotationdefaults": {
                      "arrowcolor": "#2a3f5f",
                      "arrowhead": 0,
                      "arrowwidth": 1
                    },
                    "autotypenumbers": "strict",
                    "coloraxis": {
                      "colorbar": {
                        "outlinewidth": 0,
                        "ticks": ""
                      }
                    },
                    "colorscale": {
                      "diverging": [
                        [
                          0,
                          "#8e0152"
                        ],
                        [
                          0.1,
                          "#c51b7d"
                        ],
                        [
                          0.2,
                          "#de77ae"
                        ],
                        [
                          0.3,
                          "#f1b6da"
                        ],
                        [
                          0.4,
                          "#fde0ef"
                        ],
                        [
                          0.5,
                          "#f7f7f7"
                        ],
                        [
                          0.6,
                          "#e6f5d0"
                        ],
                        [
                          0.7,
                          "#b8e186"
                        ],
                        [
                          0.8,
                          "#7fbc41"
                        ],
                        [
                          0.9,
                          "#4d9221"
                        ],
                        [
                          1,
                          "#276419"
                        ]
                      ],
                      "sequential": [
                        [
                          0,
                          "#0d0887"
                        ],
                        [
                          0.1111111111111111,
                          "#46039f"
                        ],
                        [
                          0.2222222222222222,
                          "#7201a8"
                        ],
                        [
                          0.3333333333333333,
                          "#9c179e"
                        ],
                        [
                          0.4444444444444444,
                          "#bd3786"
                        ],
                        [
                          0.5555555555555556,
                          "#d8576b"
                        ],
                        [
                          0.6666666666666666,
                          "#ed7953"
                        ],
                        [
                          0.7777777777777778,
                          "#fb9f3a"
                        ],
                        [
                          0.8888888888888888,
                          "#fdca26"
                        ],
                        [
                          1,
                          "#f0f921"
                        ]
                      ],
                      "sequentialminus": [
                        [
                          0,
                          "#0d0887"
                        ],
                        [
                          0.1111111111111111,
                          "#46039f"
                        ],
                        [
                          0.2222222222222222,
                          "#7201a8"
                        ],
                        [
                          0.3333333333333333,
                          "#9c179e"
                        ],
                        [
                          0.4444444444444444,
                          "#bd3786"
                        ],
                        [
                          0.5555555555555556,
                          "#d8576b"
                        ],
                        [
                          0.6666666666666666,
                          "#ed7953"
                        ],
                        [
                          0.7777777777777778,
                          "#fb9f3a"
                        ],
                        [
                          0.8888888888888888,
                          "#fdca26"
                        ],
                        [
                          1,
                          "#f0f921"
                        ]
                      ]
                    },
                    "colorway": [
                      "#636efa",
                      "#EF553B",
                      "#00cc96",
                      "#ab63fa",
                      "#FFA15A",
                      "#19d3f3",
                      "#FF6692",
                      "#B6E880",
                      "#FF97FF",
                      "#FECB52"
                    ],
                    "font": {
                      "color": "#2a3f5f"
                    },
                    "geo": {
                      "bgcolor": "white",
                      "lakecolor": "white",
                      "landcolor": "#E5ECF6",
                      "showlakes": true,
                      "showland": true,
                      "subunitcolor": "white"
                    },
                    "hoverlabel": {
                      "align": "left"
                    },
                    "hovermode": "closest",
                    "mapbox": {
                      "style": "light"
                    },
                    "paper_bgcolor": "white",
                    "plot_bgcolor": "#E5ECF6",
                    "polar": {
                      "angularaxis": {
                        "gridcolor": "white",
                        "linecolor": "white",
                        "ticks": ""
                      },
                      "bgcolor": "#E5ECF6",
                      "radialaxis": {
                        "gridcolor": "white",
                        "linecolor": "white",
                        "ticks": ""
                      }
                    },
                    "scene": {
                      "xaxis": {
                        "backgroundcolor": "#E5ECF6",
                        "gridcolor": "white",
                        "gridwidth": 2,
                        "linecolor": "white",
                        "showbackground": true,
                        "ticks": "",
                        "zerolinecolor": "white"
                      },
                      "yaxis": {
                        "backgroundcolor": "#E5ECF6",
                        "gridcolor": "white",
                        "gridwidth": 2,
                        "linecolor": "white",
                        "showbackground": true,
                        "ticks": "",
                        "zerolinecolor": "white"
                      },
                      "zaxis": {
                        "backgroundcolor": "#E5ECF6",
                        "gridcolor": "white",
                        "gridwidth": 2,
                        "linecolor": "white",
                        "showbackground": true,
                        "ticks": "",
                        "zerolinecolor": "white"
                      }
                    },
                    "shapedefaults": {
                      "line": {
                        "color": "#2a3f5f"
                      }
                    },
                    "ternary": {
                      "aaxis": {
                        "gridcolor": "white",
                        "linecolor": "white",
                        "ticks": ""
                      },
                      "baxis": {
                        "gridcolor": "white",
                        "linecolor": "white",
                        "ticks": ""
                      },
                      "bgcolor": "#E5ECF6",
                      "caxis": {
                        "gridcolor": "white",
                        "linecolor": "white",
                        "ticks": ""
                      }
                    },
                    "title": {
                      "x": 0.05
                    },
                    "xaxis": {
                      "automargin": true,
                      "gridcolor": "white",
                      "linecolor": "white",
                      "ticks": "",
                      "title": {
                        "standoff": 15
                      },
                      "zerolinecolor": "white",
                      "zerolinewidth": 2
                    },
                    "yaxis": {
                      "automargin": true,
                      "gridcolor": "white",
                      "linecolor": "white",
                      "ticks": "",
                      "title": {
                        "standoff": 15
                      },
                      "zerolinecolor": "white",
                      "zerolinewidth": 2
                    }
                  }
                },
                "title": {
                  "text": "Distribution des StartUp par nombre de salariés (TOP 5)"
                },
                "xaxis": {
                  "anchor": "y",
                  "domain": [
                    0,
                    1
                  ],
                  "title": {
                    "text": "Nombre"
                  }
                },
                "yaxis": {
                  "anchor": "x",
                  "domain": [
                    0,
                    1
                  ],
                  "title": {
                    "text": "Effectif"
                  }
                }
              }
            }
          },
          "metadata": {},
          "output_type": "display_data"
        }
      ],
      "source": [
        "#df['Effectif_def'].value_counts()\n",
        "\n",
        "# Calculer la distribution des valeurs et trier par ordre décroissant\n",
        "distribution = df['Effectif_def'].value_counts().reset_index()\n",
        "distribution.columns = ['Nom Secteur', 'Count']\n",
        "\n",
        "# Filtrer pour afficher uniquement le TOP 5\n",
        "distribution_top5 = distribution.sort_values(by='Count', ascending=True).tail(5)\n",
        "\n",
        "# Créer le graphique en barres\n",
        "fig = px.bar(distribution_top5, x='Count', y='Nom Secteur',\n",
        "             title=\"Distribution des StartUp par nombre de salariés (TOP 5)\",\n",
        "             labels={'Nom Secteur': 'Effectif', 'Count': 'Nombre'},\n",
        "             text='Count')\n",
        "\n",
        "# Afficher le graphique\n",
        "fig.show()"
      ]
    },
    {
      "cell_type": "code",
      "execution_count": 15,
      "metadata": {
        "colab": {
          "base_uri": "https://localhost:8080/",
          "height": 542
        },
        "id": "vSWC_EiCb2-b",
        "outputId": "27fa138b-9d4d-41c8-ea21-f93a1db42c1a"
      },
      "outputs": [
        {
          "data": {
            "application/vnd.plotly.v1+json": {
              "config": {
                "plotlyServerURL": "https://plot.ly"
              },
              "data": [
                {
                  "domain": {
                    "x": [
                      0,
                      1
                    ],
                    "y": [
                      0,
                      1
                    ]
                  },
                  "hovertemplate": "Effectif=%{label}<br>Count=%{value}<extra></extra>",
                  "labels": [
                    "200 à 499 salariés",
                    "1 ou 2 salariés",
                    "50 à 99 salariés",
                    "3 à 5 salariés",
                    "20 à 49 salariés"
                  ],
                  "legendgroup": "",
                  "name": "",
                  "showlegend": true,
                  "type": "pie",
                  "values": [
                    236,
                    685,
                    1297,
                    2147,
                    3201
                  ]
                }
              ],
              "layout": {
                "legend": {
                  "tracegroupgap": 0
                },
                "template": {
                  "data": {
                    "bar": [
                      {
                        "error_x": {
                          "color": "#2a3f5f"
                        },
                        "error_y": {
                          "color": "#2a3f5f"
                        },
                        "marker": {
                          "line": {
                            "color": "#E5ECF6",
                            "width": 0.5
                          },
                          "pattern": {
                            "fillmode": "overlay",
                            "size": 10,
                            "solidity": 0.2
                          }
                        },
                        "type": "bar"
                      }
                    ],
                    "barpolar": [
                      {
                        "marker": {
                          "line": {
                            "color": "#E5ECF6",
                            "width": 0.5
                          },
                          "pattern": {
                            "fillmode": "overlay",
                            "size": 10,
                            "solidity": 0.2
                          }
                        },
                        "type": "barpolar"
                      }
                    ],
                    "carpet": [
                      {
                        "aaxis": {
                          "endlinecolor": "#2a3f5f",
                          "gridcolor": "white",
                          "linecolor": "white",
                          "minorgridcolor": "white",
                          "startlinecolor": "#2a3f5f"
                        },
                        "baxis": {
                          "endlinecolor": "#2a3f5f",
                          "gridcolor": "white",
                          "linecolor": "white",
                          "minorgridcolor": "white",
                          "startlinecolor": "#2a3f5f"
                        },
                        "type": "carpet"
                      }
                    ],
                    "choropleth": [
                      {
                        "colorbar": {
                          "outlinewidth": 0,
                          "ticks": ""
                        },
                        "type": "choropleth"
                      }
                    ],
                    "contour": [
                      {
                        "colorbar": {
                          "outlinewidth": 0,
                          "ticks": ""
                        },
                        "colorscale": [
                          [
                            0,
                            "#0d0887"
                          ],
                          [
                            0.1111111111111111,
                            "#46039f"
                          ],
                          [
                            0.2222222222222222,
                            "#7201a8"
                          ],
                          [
                            0.3333333333333333,
                            "#9c179e"
                          ],
                          [
                            0.4444444444444444,
                            "#bd3786"
                          ],
                          [
                            0.5555555555555556,
                            "#d8576b"
                          ],
                          [
                            0.6666666666666666,
                            "#ed7953"
                          ],
                          [
                            0.7777777777777778,
                            "#fb9f3a"
                          ],
                          [
                            0.8888888888888888,
                            "#fdca26"
                          ],
                          [
                            1,
                            "#f0f921"
                          ]
                        ],
                        "type": "contour"
                      }
                    ],
                    "contourcarpet": [
                      {
                        "colorbar": {
                          "outlinewidth": 0,
                          "ticks": ""
                        },
                        "type": "contourcarpet"
                      }
                    ],
                    "heatmap": [
                      {
                        "colorbar": {
                          "outlinewidth": 0,
                          "ticks": ""
                        },
                        "colorscale": [
                          [
                            0,
                            "#0d0887"
                          ],
                          [
                            0.1111111111111111,
                            "#46039f"
                          ],
                          [
                            0.2222222222222222,
                            "#7201a8"
                          ],
                          [
                            0.3333333333333333,
                            "#9c179e"
                          ],
                          [
                            0.4444444444444444,
                            "#bd3786"
                          ],
                          [
                            0.5555555555555556,
                            "#d8576b"
                          ],
                          [
                            0.6666666666666666,
                            "#ed7953"
                          ],
                          [
                            0.7777777777777778,
                            "#fb9f3a"
                          ],
                          [
                            0.8888888888888888,
                            "#fdca26"
                          ],
                          [
                            1,
                            "#f0f921"
                          ]
                        ],
                        "type": "heatmap"
                      }
                    ],
                    "heatmapgl": [
                      {
                        "colorbar": {
                          "outlinewidth": 0,
                          "ticks": ""
                        },
                        "colorscale": [
                          [
                            0,
                            "#0d0887"
                          ],
                          [
                            0.1111111111111111,
                            "#46039f"
                          ],
                          [
                            0.2222222222222222,
                            "#7201a8"
                          ],
                          [
                            0.3333333333333333,
                            "#9c179e"
                          ],
                          [
                            0.4444444444444444,
                            "#bd3786"
                          ],
                          [
                            0.5555555555555556,
                            "#d8576b"
                          ],
                          [
                            0.6666666666666666,
                            "#ed7953"
                          ],
                          [
                            0.7777777777777778,
                            "#fb9f3a"
                          ],
                          [
                            0.8888888888888888,
                            "#fdca26"
                          ],
                          [
                            1,
                            "#f0f921"
                          ]
                        ],
                        "type": "heatmapgl"
                      }
                    ],
                    "histogram": [
                      {
                        "marker": {
                          "pattern": {
                            "fillmode": "overlay",
                            "size": 10,
                            "solidity": 0.2
                          }
                        },
                        "type": "histogram"
                      }
                    ],
                    "histogram2d": [
                      {
                        "colorbar": {
                          "outlinewidth": 0,
                          "ticks": ""
                        },
                        "colorscale": [
                          [
                            0,
                            "#0d0887"
                          ],
                          [
                            0.1111111111111111,
                            "#46039f"
                          ],
                          [
                            0.2222222222222222,
                            "#7201a8"
                          ],
                          [
                            0.3333333333333333,
                            "#9c179e"
                          ],
                          [
                            0.4444444444444444,
                            "#bd3786"
                          ],
                          [
                            0.5555555555555556,
                            "#d8576b"
                          ],
                          [
                            0.6666666666666666,
                            "#ed7953"
                          ],
                          [
                            0.7777777777777778,
                            "#fb9f3a"
                          ],
                          [
                            0.8888888888888888,
                            "#fdca26"
                          ],
                          [
                            1,
                            "#f0f921"
                          ]
                        ],
                        "type": "histogram2d"
                      }
                    ],
                    "histogram2dcontour": [
                      {
                        "colorbar": {
                          "outlinewidth": 0,
                          "ticks": ""
                        },
                        "colorscale": [
                          [
                            0,
                            "#0d0887"
                          ],
                          [
                            0.1111111111111111,
                            "#46039f"
                          ],
                          [
                            0.2222222222222222,
                            "#7201a8"
                          ],
                          [
                            0.3333333333333333,
                            "#9c179e"
                          ],
                          [
                            0.4444444444444444,
                            "#bd3786"
                          ],
                          [
                            0.5555555555555556,
                            "#d8576b"
                          ],
                          [
                            0.6666666666666666,
                            "#ed7953"
                          ],
                          [
                            0.7777777777777778,
                            "#fb9f3a"
                          ],
                          [
                            0.8888888888888888,
                            "#fdca26"
                          ],
                          [
                            1,
                            "#f0f921"
                          ]
                        ],
                        "type": "histogram2dcontour"
                      }
                    ],
                    "mesh3d": [
                      {
                        "colorbar": {
                          "outlinewidth": 0,
                          "ticks": ""
                        },
                        "type": "mesh3d"
                      }
                    ],
                    "parcoords": [
                      {
                        "line": {
                          "colorbar": {
                            "outlinewidth": 0,
                            "ticks": ""
                          }
                        },
                        "type": "parcoords"
                      }
                    ],
                    "pie": [
                      {
                        "automargin": true,
                        "type": "pie"
                      }
                    ],
                    "scatter": [
                      {
                        "fillpattern": {
                          "fillmode": "overlay",
                          "size": 10,
                          "solidity": 0.2
                        },
                        "type": "scatter"
                      }
                    ],
                    "scatter3d": [
                      {
                        "line": {
                          "colorbar": {
                            "outlinewidth": 0,
                            "ticks": ""
                          }
                        },
                        "marker": {
                          "colorbar": {
                            "outlinewidth": 0,
                            "ticks": ""
                          }
                        },
                        "type": "scatter3d"
                      }
                    ],
                    "scattercarpet": [
                      {
                        "marker": {
                          "colorbar": {
                            "outlinewidth": 0,
                            "ticks": ""
                          }
                        },
                        "type": "scattercarpet"
                      }
                    ],
                    "scattergeo": [
                      {
                        "marker": {
                          "colorbar": {
                            "outlinewidth": 0,
                            "ticks": ""
                          }
                        },
                        "type": "scattergeo"
                      }
                    ],
                    "scattergl": [
                      {
                        "marker": {
                          "colorbar": {
                            "outlinewidth": 0,
                            "ticks": ""
                          }
                        },
                        "type": "scattergl"
                      }
                    ],
                    "scattermapbox": [
                      {
                        "marker": {
                          "colorbar": {
                            "outlinewidth": 0,
                            "ticks": ""
                          }
                        },
                        "type": "scattermapbox"
                      }
                    ],
                    "scatterpolar": [
                      {
                        "marker": {
                          "colorbar": {
                            "outlinewidth": 0,
                            "ticks": ""
                          }
                        },
                        "type": "scatterpolar"
                      }
                    ],
                    "scatterpolargl": [
                      {
                        "marker": {
                          "colorbar": {
                            "outlinewidth": 0,
                            "ticks": ""
                          }
                        },
                        "type": "scatterpolargl"
                      }
                    ],
                    "scatterternary": [
                      {
                        "marker": {
                          "colorbar": {
                            "outlinewidth": 0,
                            "ticks": ""
                          }
                        },
                        "type": "scatterternary"
                      }
                    ],
                    "surface": [
                      {
                        "colorbar": {
                          "outlinewidth": 0,
                          "ticks": ""
                        },
                        "colorscale": [
                          [
                            0,
                            "#0d0887"
                          ],
                          [
                            0.1111111111111111,
                            "#46039f"
                          ],
                          [
                            0.2222222222222222,
                            "#7201a8"
                          ],
                          [
                            0.3333333333333333,
                            "#9c179e"
                          ],
                          [
                            0.4444444444444444,
                            "#bd3786"
                          ],
                          [
                            0.5555555555555556,
                            "#d8576b"
                          ],
                          [
                            0.6666666666666666,
                            "#ed7953"
                          ],
                          [
                            0.7777777777777778,
                            "#fb9f3a"
                          ],
                          [
                            0.8888888888888888,
                            "#fdca26"
                          ],
                          [
                            1,
                            "#f0f921"
                          ]
                        ],
                        "type": "surface"
                      }
                    ],
                    "table": [
                      {
                        "cells": {
                          "fill": {
                            "color": "#EBF0F8"
                          },
                          "line": {
                            "color": "white"
                          }
                        },
                        "header": {
                          "fill": {
                            "color": "#C8D4E3"
                          },
                          "line": {
                            "color": "white"
                          }
                        },
                        "type": "table"
                      }
                    ]
                  },
                  "layout": {
                    "annotationdefaults": {
                      "arrowcolor": "#2a3f5f",
                      "arrowhead": 0,
                      "arrowwidth": 1
                    },
                    "autotypenumbers": "strict",
                    "coloraxis": {
                      "colorbar": {
                        "outlinewidth": 0,
                        "ticks": ""
                      }
                    },
                    "colorscale": {
                      "diverging": [
                        [
                          0,
                          "#8e0152"
                        ],
                        [
                          0.1,
                          "#c51b7d"
                        ],
                        [
                          0.2,
                          "#de77ae"
                        ],
                        [
                          0.3,
                          "#f1b6da"
                        ],
                        [
                          0.4,
                          "#fde0ef"
                        ],
                        [
                          0.5,
                          "#f7f7f7"
                        ],
                        [
                          0.6,
                          "#e6f5d0"
                        ],
                        [
                          0.7,
                          "#b8e186"
                        ],
                        [
                          0.8,
                          "#7fbc41"
                        ],
                        [
                          0.9,
                          "#4d9221"
                        ],
                        [
                          1,
                          "#276419"
                        ]
                      ],
                      "sequential": [
                        [
                          0,
                          "#0d0887"
                        ],
                        [
                          0.1111111111111111,
                          "#46039f"
                        ],
                        [
                          0.2222222222222222,
                          "#7201a8"
                        ],
                        [
                          0.3333333333333333,
                          "#9c179e"
                        ],
                        [
                          0.4444444444444444,
                          "#bd3786"
                        ],
                        [
                          0.5555555555555556,
                          "#d8576b"
                        ],
                        [
                          0.6666666666666666,
                          "#ed7953"
                        ],
                        [
                          0.7777777777777778,
                          "#fb9f3a"
                        ],
                        [
                          0.8888888888888888,
                          "#fdca26"
                        ],
                        [
                          1,
                          "#f0f921"
                        ]
                      ],
                      "sequentialminus": [
                        [
                          0,
                          "#0d0887"
                        ],
                        [
                          0.1111111111111111,
                          "#46039f"
                        ],
                        [
                          0.2222222222222222,
                          "#7201a8"
                        ],
                        [
                          0.3333333333333333,
                          "#9c179e"
                        ],
                        [
                          0.4444444444444444,
                          "#bd3786"
                        ],
                        [
                          0.5555555555555556,
                          "#d8576b"
                        ],
                        [
                          0.6666666666666666,
                          "#ed7953"
                        ],
                        [
                          0.7777777777777778,
                          "#fb9f3a"
                        ],
                        [
                          0.8888888888888888,
                          "#fdca26"
                        ],
                        [
                          1,
                          "#f0f921"
                        ]
                      ]
                    },
                    "colorway": [
                      "#636efa",
                      "#EF553B",
                      "#00cc96",
                      "#ab63fa",
                      "#FFA15A",
                      "#19d3f3",
                      "#FF6692",
                      "#B6E880",
                      "#FF97FF",
                      "#FECB52"
                    ],
                    "font": {
                      "color": "#2a3f5f"
                    },
                    "geo": {
                      "bgcolor": "white",
                      "lakecolor": "white",
                      "landcolor": "#E5ECF6",
                      "showlakes": true,
                      "showland": true,
                      "subunitcolor": "white"
                    },
                    "hoverlabel": {
                      "align": "left"
                    },
                    "hovermode": "closest",
                    "mapbox": {
                      "style": "light"
                    },
                    "paper_bgcolor": "white",
                    "plot_bgcolor": "#E5ECF6",
                    "polar": {
                      "angularaxis": {
                        "gridcolor": "white",
                        "linecolor": "white",
                        "ticks": ""
                      },
                      "bgcolor": "#E5ECF6",
                      "radialaxis": {
                        "gridcolor": "white",
                        "linecolor": "white",
                        "ticks": ""
                      }
                    },
                    "scene": {
                      "xaxis": {
                        "backgroundcolor": "#E5ECF6",
                        "gridcolor": "white",
                        "gridwidth": 2,
                        "linecolor": "white",
                        "showbackground": true,
                        "ticks": "",
                        "zerolinecolor": "white"
                      },
                      "yaxis": {
                        "backgroundcolor": "#E5ECF6",
                        "gridcolor": "white",
                        "gridwidth": 2,
                        "linecolor": "white",
                        "showbackground": true,
                        "ticks": "",
                        "zerolinecolor": "white"
                      },
                      "zaxis": {
                        "backgroundcolor": "#E5ECF6",
                        "gridcolor": "white",
                        "gridwidth": 2,
                        "linecolor": "white",
                        "showbackground": true,
                        "ticks": "",
                        "zerolinecolor": "white"
                      }
                    },
                    "shapedefaults": {
                      "line": {
                        "color": "#2a3f5f"
                      }
                    },
                    "ternary": {
                      "aaxis": {
                        "gridcolor": "white",
                        "linecolor": "white",
                        "ticks": ""
                      },
                      "baxis": {
                        "gridcolor": "white",
                        "linecolor": "white",
                        "ticks": ""
                      },
                      "bgcolor": "#E5ECF6",
                      "caxis": {
                        "gridcolor": "white",
                        "linecolor": "white",
                        "ticks": ""
                      }
                    },
                    "title": {
                      "x": 0.05
                    },
                    "xaxis": {
                      "automargin": true,
                      "gridcolor": "white",
                      "linecolor": "white",
                      "ticks": "",
                      "title": {
                        "standoff": 15
                      },
                      "zerolinecolor": "white",
                      "zerolinewidth": 2
                    },
                    "yaxis": {
                      "automargin": true,
                      "gridcolor": "white",
                      "linecolor": "white",
                      "ticks": "",
                      "title": {
                        "standoff": 15
                      },
                      "zerolinecolor": "white",
                      "zerolinewidth": 2
                    }
                  }
                },
                "title": {
                  "text": "Répartition des StartUp par nombre de salariés (TOP 5)"
                }
              }
            }
          },
          "metadata": {},
          "output_type": "display_data"
        }
      ],
      "source": [
        "# Calculer la distribution des valeurs et trier par ordre décroissant\n",
        "distribution = df['Effectif_def'].value_counts().reset_index()\n",
        "distribution.columns = ['Effectif', 'Count']\n",
        "\n",
        "# Filtrer pour afficher uniquement le TOP 5\n",
        "distribution_top5 = distribution.sort_values(by='Count', ascending=True).tail(5)\n",
        "\n",
        "# Créer le graphique en camembert\n",
        "fig = px.pie(distribution_top5, names='Effectif', values='Count',\n",
        "             title=\"Répartition des StartUp par nombre de salariés (TOP 5)\")\n",
        "\n",
        "# Afficher le graphique\n",
        "fig.show()"
      ]
    },
    {
      "cell_type": "code",
      "execution_count": 16,
      "metadata": {
        "colab": {
          "base_uri": "https://localhost:8080/",
          "height": 419
        },
        "id": "Tz8PO0a2iiP4",
        "outputId": "62f52e8f-2e57-41bf-da3f-a46eca4e3c11"
      },
      "outputs": [
        {
          "data": {
            "text/html": [
              "<div>\n",
              "<style scoped>\n",
              "    .dataframe tbody tr th:only-of-type {\n",
              "        vertical-align: middle;\n",
              "    }\n",
              "\n",
              "    .dataframe tbody tr th {\n",
              "        vertical-align: top;\n",
              "    }\n",
              "\n",
              "    .dataframe thead th {\n",
              "        text-align: right;\n",
              "    }\n",
              "</style>\n",
              "<table border=\"1\" class=\"dataframe\">\n",
              "  <thead>\n",
              "    <tr style=\"text-align: right;\">\n",
              "      <th></th>\n",
              "      <th>Mot</th>\n",
              "      <th>Count</th>\n",
              "    </tr>\n",
              "  </thead>\n",
              "  <tbody>\n",
              "    <tr>\n",
              "      <th>44</th>\n",
              "      <td>saas</td>\n",
              "      <td>3033</td>\n",
              "    </tr>\n",
              "    <tr>\n",
              "      <th>6</th>\n",
              "      <td>commission</td>\n",
              "      <td>2381</td>\n",
              "    </tr>\n",
              "    <tr>\n",
              "      <th>19</th>\n",
              "      <td>subscription</td>\n",
              "      <td>2204</td>\n",
              "    </tr>\n",
              "    <tr>\n",
              "      <th>17</th>\n",
              "      <td>manufacturing</td>\n",
              "      <td>1824</td>\n",
              "    </tr>\n",
              "    <tr>\n",
              "      <th>86</th>\n",
              "      <td>artificial intelligence</td>\n",
              "      <td>1784</td>\n",
              "    </tr>\n",
              "    <tr>\n",
              "      <th>...</th>\n",
              "      <td>...</td>\n",
              "      <td>...</td>\n",
              "    </tr>\n",
              "    <tr>\n",
              "      <th>1977</th>\n",
              "      <td>topologie</td>\n",
              "      <td>1</td>\n",
              "    </tr>\n",
              "    <tr>\n",
              "      <th>1978</th>\n",
              "      <td>smartstores</td>\n",
              "      <td>1</td>\n",
              "    </tr>\n",
              "    <tr>\n",
              "      <th>1979</th>\n",
              "      <td>japon</td>\n",
              "      <td>1</td>\n",
              "    </tr>\n",
              "    <tr>\n",
              "      <th>349</th>\n",
              "      <td>labège</td>\n",
              "      <td>1</td>\n",
              "    </tr>\n",
              "    <tr>\n",
              "      <th>3748</th>\n",
              "      <td>electriciteverte</td>\n",
              "      <td>1</td>\n",
              "    </tr>\n",
              "  </tbody>\n",
              "</table>\n",
              "<p>3749 rows × 2 columns</p>\n",
              "</div>"
            ],
            "text/plain": [
              "                          Mot  Count\n",
              "44                       saas   3033\n",
              "6                  commission   2381\n",
              "19               subscription   2204\n",
              "17              manufacturing   1824\n",
              "86    artificial intelligence   1784\n",
              "...                       ...    ...\n",
              "1977                topologie      1\n",
              "1978              smartstores      1\n",
              "1979                    japon      1\n",
              "349                    labège      1\n",
              "3748         electriciteverte      1\n",
              "\n",
              "[3749 rows x 2 columns]"
            ]
          },
          "execution_count": 16,
          "metadata": {},
          "output_type": "execute_result"
        }
      ],
      "source": [
        "# Étape 1 : Remplacer les valeurs NaN par une chaîne vide\n",
        "df['mots_cles_def'] = df['mots_cles_def'].fillna('')\n",
        "\n",
        "# Étape 2 : Fusionner les mots-clés de toutes les lignes en une seule grande chaîne\n",
        "all_keywords = ','.join(df['mots_cles_def'].astype(str))\n",
        "\n",
        "# Étape 3 : Diviser les mots-clés en une liste de mots individuels\n",
        "keywords_list = [keyword.strip() for keyword in all_keywords.split(',') if keyword.strip()]\n",
        "\n",
        "# Étape 4 : Utiliser Counter pour compter la fréquence des mots-clés\n",
        "keywords_freq = Counter(keywords_list)\n",
        "\n",
        "# Étape 5 : Convertir le résultat en DataFrame trié\n",
        "keywords_df = pd.DataFrame(keywords_freq.items(), columns=['Mot', 'Count']).sort_values(by='Count', ascending=False)\n",
        "\n",
        "# Afficher les mots-clés les plus fréquents\n",
        "keywords_df"
      ]
    },
    {
      "cell_type": "code",
      "execution_count": 17,
      "metadata": {
        "colab": {
          "base_uri": "https://localhost:8080/",
          "height": 444
        },
        "id": "QJJslu_CxdiJ",
        "outputId": "568c9a54-527c-4763-a620-0a624a9ea7d2"
      },
      "outputs": [
        {
          "data": {
            "image/png": "[encoded data removed]",
            "text/plain": [
              "<Figure size 1000x500 with 1 Axes>"
            ]
          },
          "metadata": {},
          "output_type": "display_data"
        }
      ],
      "source": [
        "from wordcloud import WordCloud\n",
        "import matplotlib.pyplot as plt\n",
        "\n",
        "\n",
        "keywords_df\n",
        "\n",
        "# Étape 1 : Créer un dictionnaire des mots avec leurs fréquences\n",
        "word_freq = dict(zip(keywords_df['Mot'], keywords_df['Count']))\n",
        "\n",
        "# Étape 2 : Générer le nuage de mots\n",
        "wordcloud = WordCloud(width=800, height=400, background_color='white', colormap='viridis').generate_from_frequencies(word_freq)\n",
        "\n",
        "# Étape 3 : Afficher le nuage de mots\n",
        "plt.figure(figsize=(10, 5))\n",
        "plt.imshow(wordcloud, interpolation='bilinear')\n",
        "plt.axis('off')  # Enlever les axes\n",
        "plt.title(\"Nuage de mots basé sur les fréquences\")\n",
        "plt.show()"
      ]
    },
    {
      "cell_type": "code",
      "execution_count": 18,
      "metadata": {
        "colab": {
          "base_uri": "https://localhost:8080/",
          "height": 889
        },
        "id": "6UveOkDIm7pQ",
        "outputId": "f75a87d9-ffe2-4255-fa97-5b1a6761f9e0"
      },
      "outputs": [
        {
          "data": {
            "text/plain": [
              "Programmation, conseil et autres activités informatiques      1865\n",
              "Édition                                                        705\n",
              "Activités des sièges sociaux, conseil en gestion               507\n",
              "Ingénierie et études techniques                                463\n",
              "Activités immobilières                                         450\n",
              "Recherche et développement scientifique                        417\n",
              "Services d’information                                         390\n",
              "Autres activités spécialisées, scientifiques et techniques     258\n",
              "Activités financières et d’assurance                           170\n",
              "Fabrication de produits informatiques et électroniques         141\n",
              "Restauration                                                   106\n",
              "Activités administratives et autres services de soutien        104\n",
              "Publicité et études de marché                                   98\n",
              "Travaux de construction spécialisés                             77\n",
              "Location et exploitation de biens immobiliers                   56\n",
              "Télécommunications                                              37\n",
              "Transports terrestres et transport par conduites                34\n",
              "Industries alimentaires                                         29\n",
              "Construction de bâtiments                                       27\n",
              "Autres industries manufacturières                               20\n",
              "Imprimerie et reproduction d'enregistrements                    16\n",
              "Agriculture                                                     10\n",
              "Pêche et aquaculture                                             7\n",
              "Fabrication de textiles                                          6\n",
              "Sylviculture et exploitation forestière                          1\n",
              "Name: Nom Secteur, dtype: int64"
            ]
          },
          "execution_count": 18,
          "metadata": {},
          "output_type": "execute_result"
        }
      ],
      "source": [
        "df['Nom Secteur'].value_counts()"
      ]
    }
  ],
  "metadata": {
    "colab": {
      "provenance": []
    },
    "kernelspec": {
      "display_name": "base",
      "language": "python",
      "name": "python3"
    },
    "language_info": {
      "codemirror_mode": {
        "name": "ipython",
        "version": 3
      },
      "file_extension": ".py",
      "mimetype": "text/x-python",
      "name": "python",
      "nbconvert_exporter": "python",
      "pygments_lexer": "ipython3",
      "version": "3.12.7"
    }
  },
  "nbformat": 4,
  "nbformat_minor": 0
}
