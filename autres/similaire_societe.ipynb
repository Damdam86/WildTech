{
 "cells": [
  {
   "cell_type": "code",
   "execution_count": 35,
   "metadata": {},
   "outputs": [],
   "source": [
    "import pandas as pd\n",
    "from sklearn.neighbors import NearestNeighbors\n",
    "from sklearn.pipeline import Pipeline"
   ]
  },
  {
   "cell_type": "code",
   "execution_count": 36,
   "metadata": {},
   "outputs": [],
   "source": [
    "df_societe = pd.read_csv('societes.csv')"
   ]
  },
  {
   "cell_type": "code",
   "execution_count": 37,
   "metadata": {},
   "outputs": [],
   "source": [
    "# Utiliser `get_dummies` pour créer des colonnes de mots clés\n",
    "keywords_dummies = df_societe['mots_cles_def'].str.get_dummies(sep=', ')\n",
    "market_dummies = df_societe['market'].str.get_dummies(sep=', ')\n",
    "activite_dummies = df_societe['Activité principale'].str.get_dummies(sep=', ')"
   ]
  },
  {
   "cell_type": "code",
   "execution_count": 38,
   "metadata": {},
   "outputs": [
    {
     "name": "stdout",
     "output_type": "stream",
     "text": [
      "<class 'pandas.core.frame.DataFrame'>\n",
      "<class 'pandas.core.frame.DataFrame'>\n",
      "<class 'pandas.core.frame.DataFrame'>\n"
     ]
    }
   ],
   "source": [
    "print(type(keywords_dummies)) \n",
    "print(type(market_dummies))  \n",
    "print(type(activite_dummies))  "
   ]
  },
  {
   "cell_type": "code",
   "execution_count": 39,
   "metadata": {},
   "outputs": [],
   "source": [
    "def create_and_train_pipeline(X_extended):\n",
    "    # Réindexation par sécurité\n",
    "    X_extended.reset_index(drop=True, inplace=True)\n",
    "    \n",
    "    # Initialisation et entraînement du modèle KNN\n",
    "    pipeline = Pipeline([\n",
    "        ('knn', NearestNeighbors(n_neighbors=16, metric='manhattan'))\n",
    "    ])\n",
    "    pipeline.fit(X_extended)\n",
    "\n",
    "    return pipeline"
   ]
  },
  {
   "cell_type": "code",
   "execution_count": 40,
   "metadata": {},
   "outputs": [],
   "source": [
    "X_extended = pd.concat([keywords_dummies, market_dummies, activite_dummies], axis=1)\n",
    "pipeline = create_and_train_pipeline(X_extended)"
   ]
  },
  {
   "cell_type": "code",
   "execution_count": 41,
   "metadata": {},
   "outputs": [],
   "source": [
    "def recommend_societes(entreprise_id, data, X_extended, pipeline):\n",
    "    \"\"\" Recommande des sociétés similaires à partir des mots-clés. \"\"\"\n",
    "    \n",
    "    # Vérifier si l'ID de la société existe dans les données\n",
    "    if entreprise_id not in data['entreprise_id'].values:\n",
    "        print(f\" {entreprise_id} n'existe pas\")\n",
    "        return []\n",
    "\n",
    "    # Trouver l'index de la société dans le DataFrame\n",
    "    entreprise_index = data.index[data['entreprise_id'] == entreprise_id].tolist()[0]\n",
    "\n",
    "    # Extraire les caractéristiques de la société\n",
    "    entreprise_data = X_extended.loc[entreprise_index].to_frame().T\n",
    "\n",
    "    # Trouver les sociétés les plus similaires\n",
    "    distances, indices = pipeline.named_steps['knn'].kneighbors(entreprise_data)\n",
    "\n",
    "    # Récupérer les voisins\n",
    "    voisins = data.iloc[indices[0]].copy()\n",
    "    voisins['Distance'] = distances[0]\n",
    "\n",
    "    # Exclure la société d'origine des recommandations\n",
    "    voisins = voisins[voisins['entreprise_id'] != entreprise_id]\n",
    "\n",
    "    # Trier les recommandations par proximité\n",
    "    voisins = voisins.sort_values(by='Distance')\n",
    "\n",
    "    # Construire la liste des sociétés recommandées\n",
    "    recommended_societes = []\n",
    "    for _, row in voisins.iterrows():\n",
    "        recommended_societes.append({\n",
    "            \"id\": row['entreprise_id'],\n",
    "            \"nom\": row['nom'],\n",
    "            \"mot_cles\": row['mots_cles_def'],\n",
    "            \"description\": row['description'],\n",
    "            \"market\": row['market'],\n",
    "            \"activite\": row['Activité principale'],\n",
    "            \"distance\": round(row['Distance'], 3)\n",
    "        })\n",
    "\n",
    "    return recommended_societes"
   ]
  },
  {
   "cell_type": "code",
   "execution_count": 42,
   "metadata": {},
   "outputs": [
    {
     "name": "stdout",
     "output_type": "stream",
     "text": [
      "1. LYTID Developing, manufacturing and commercializing terahertz technologies for scientific and industrial applications deep tech, hardware, manufacturing, quantum technologies, selling own inventory, semiconductors deep tech, hardware, manufacturing, quantum technologies, selling own inventory, semiconductors nan (Distance: 3.0)\n",
      "2. HOASYS Developing Optical Systems for the industry and medicine customers, as a cost effective technological step forward deep tech, hardware, manufacturing, selling own inventory, semiconductors deep tech, hardware, manufacturing, selling own inventory, semiconductors nan (Distance: 4.0)\n",
      "3. KEYSOM Keysom develops RISC-V based processor architectures that are automatically built from the application source code and dynamically reconfigurable deep tech, hardware, saas, semiconductors, subscription deep tech, hardware, saas, semiconductors, subscription nan (Distance: 4.0)\n",
      "4. AIRMEMS Offers innovative electronic switching solutions that shrink size, reduce power consumption and improve performance of electronic circuits deep tech, hardware, manufacturing, selling own inventory, semiconductors deep tech, hardware, manufacturing, selling own inventory, semiconductors nan (Distance: 4.0)\n",
      "5. HAWAI HawAI.tech – Hardware for explainable artificial intelligence deep tech, enterprise software, manufacturing, saas, selling own inventory deep tech, enterprise software, manufacturing, saas, selling own inventory nan (Distance: 4.0)\n",
      "6. EYCO Designs and manufactures smart circuits for applications in health, security, finance, telecommunications, and transport deep tech, manufacturing, selling own inventory, semiconductors deep tech, manufacturing, selling own inventory, semiconductors nan (Distance: 5.0)\n",
      "7. CITIPROFILE Count and Qualify your Visitor Flows deep tech, enterprise software, saas, subscription deep tech, enterprise software, saas, subscription nan (Distance: 5.0)\n",
      "8. DATAPOLITICS A platform for political life influencers deep tech, enterprise software, saas, subscription deep tech, enterprise software, saas, subscription nan (Distance: 5.0)\n",
      "9. METRIXWARE Develops software technologies and solutions to modernize the most critical legacy applications (COBOL, PL/I, RPG, C/C++, PHP, Java), addressing middle-sized and big organizations business issues (HR turnover, technical debt, platform obsolescence, reversibility problems, time to market ...) deep tech, enterprise software, saas, subscription deep tech, enterprise software, saas, subscription nan (Distance: 5.0)\n",
      "10. VASY A Research and Development start-up specializing in Artificial Intelligence. It aims to develop new urban travel algorithms deep tech, enterprise software, saas, subscription deep tech, enterprise software, saas, subscription nan (Distance: 5.0)\n"
     ]
    }
   ],
   "source": [
    "# 🔹 Exemple d'utilisation :\n",
    "entreprise_id_test = 534  # Remplace par un ID existant dans ton dataset\n",
    "reco = recommend_societes(entreprise_id_test, df_societe, X_extended, pipeline)\n",
    "\n",
    "# 🔹 Affichage des recommandations\n",
    "for i, societe in enumerate(reco[:10], 1):\n",
    "    print(f\"{i}. {societe['nom']} {societe['description']} {societe['mot_cles']} {societe['mot_cles']} {societe['activite']} (Distance: {societe['distance']})\")"
   ]
  }
 ],
 "metadata": {
  "kernelspec": {
   "display_name": "base",
   "language": "python",
   "name": "python3"
  },
  "language_info": {
   "codemirror_mode": {
    "name": "ipython",
    "version": 3
   },
   "file_extension": ".py",
   "mimetype": "text/x-python",
   "name": "python",
   "nbconvert_exporter": "python",
   "pygments_lexer": "ipython3",
   "version": "3.12.7"
  }
 },
 "nbformat": 4,
 "nbformat_minor": 2
}
